{
 "cells": [
  {
   "cell_type": "markdown",
   "metadata": {},
   "source": [
    "Data Science Fundamentals: Python |\n",
    "[Table of Contents](../index.ipynb)\n",
    "- - - \n",
    "<!--NAVIGATION-->\n",
    "Module 7. | [Objects and Classes](./01_obj_classes.ipynb) | [Examples of Objects and Classes](./02_ex_obj_classes.ipynb) | **[Exercises](./03_obj_classes_exercises.ipynb)**"
   ]
  },
  {
   "cell_type": "markdown",
   "metadata": {},
   "source": [
    "# Module 7: Practice Exercises"
   ]
  },
  {
   "cell_type": "markdown",
   "metadata": {},
   "source": [
    "## Exercise 1. "
   ]
  },
  {
   "cell_type": "markdown",
   "metadata": {},
   "source": [
    "[See Hacker Rank Problem](https://www.hackerrank.com/challenges/class-1-dealing-with-complex-numbers/problem)"
   ]
  },
  {
   "cell_type": "markdown",
   "metadata": {},
   "source": [
    "### Classes: Dealing with Complex Numbers"
   ]
  },
  {
   "cell_type": "markdown",
   "metadata": {},
   "source": [
    "For this challenge, you are given two complex numbers, and you have to print the result of their addition, subtraction, multiplication, division and modulus operations.\n",
    "\n",
    "The real and imaginary precision part should be correct up to two decimal places."
   ]
  },
  {
   "cell_type": "markdown",
   "metadata": {},
   "source": [
    "**Input Format**"
   ]
  },
  {
   "cell_type": "markdown",
   "metadata": {},
   "source": [
    "One line of input: The real and imaginary part of a number separated by a space."
   ]
  },
  {
   "cell_type": "markdown",
   "metadata": {},
   "source": [
    "**Output Format**"
   ]
  },
  {
   "cell_type": "markdown",
   "metadata": {},
   "source": [
    "For two complex numbers **C** and **D**, the output should be in the following sequence on separate lines:"
   ]
  },
  {
   "cell_type": "markdown",
   "metadata": {},
   "source": [
    "![screenshot](files/screenshot.png)"
   ]
  },
  {
   "cell_type": "markdown",
   "metadata": {},
   "source": [
    "**Sample Input**"
   ]
  },
  {
   "cell_type": "markdown",
   "metadata": {},
   "source": [
    "2 1<br>\n",
    "5 6<br>"
   ]
  },
  {
   "cell_type": "markdown",
   "metadata": {},
   "source": [
    "**Sample Output**"
   ]
  },
  {
   "cell_type": "markdown",
   "metadata": {},
   "source": [
    "7.00+7.00i<br>\n",
    "-3.00-5.00i<br>\n",
    "4.00+17.00i<br>\n",
    "0.26-0.11i<br>\n",
    "2.24+0.00i<br>\n",
    "7.81+0.00i<br>"
   ]
  },
  {
   "cell_type": "markdown",
   "metadata": {},
   "source": [
    "**Concept**"
   ]
  },
  {
   "cell_type": "markdown",
   "metadata": {},
   "source": [
    "Python is a fully object-oriented language like C++, Java, etc. For reading about classes, refer here.\n",
    "\n",
    "Methods with a double underscore before and after their name are considered as built-in methods. They are used by interpreters and are generally used in the implementation of overloaded operators or other built-in functionality."
   ]
  },
  {
   "cell_type": "markdown",
   "metadata": {},
   "source": [
    "```__add__-> Can be overloaded for + operation```"
   ]
  },
  {
   "cell_type": "markdown",
   "metadata": {},
   "source": [
    "```__sub__ -> Can be overloaded for - operation```"
   ]
  },
  {
   "cell_type": "markdown",
   "metadata": {},
   "source": [
    "```__mul__ -> Can be overloaded for * operation```"
   ]
  },
  {
   "cell_type": "markdown",
   "metadata": {},
   "source": [
    "For operator overloading see [Data Model Reference](https://docs.python.org/3.2/reference/datamodel.html)"
   ]
  },
  {
   "cell_type": "markdown",
   "metadata": {},
   "source": [
    "### What is [overloading](https://stackabuse.com/overloading-functions-and-operators-in-python/)?"
   ]
  },
  {
   "cell_type": "markdown",
   "metadata": {},
   "source": [
    "Overloading, in the context of programming, refers to the ability of a function or an operator to behave in different ways depending on the parameters that are passed to the function, or the operands that the operator acts on."
   ]
  },
  {
   "cell_type": "markdown",
   "metadata": {},
   "source": [
    "### [Answer](https://thedataincubator.github.io/coding-challenges/challenges/class-1-dealing-with-complex-numbers.html)"
   ]
  },
  {
   "cell_type": "code",
   "execution_count": 1,
   "metadata": {},
   "outputs": [
    {
     "name": "stdout",
     "output_type": "stream",
     "text": [
      "please input the first real and imaginary part of a complex number, seperated by space: 2 1\n",
      "please input the second real and imaginary part of a complex number, seperated by space: 5 6\n",
      "7.00 + 7.00i\n",
      "-3.00 - 5.00i\n",
      "4.00 + 17.00i\n",
      "0.26 - 0.11i\n",
      "2.24 + 0.00i\n",
      "7.81 + 0.00i\n"
     ]
    }
   ],
   "source": [
    "class Self_define_complex(): # define a class \n",
    "    def __init__(self, pair = None): # accept real and imaginary part of a complex number\n",
    "        self.real, self.imag = pair[0], pair[1]\n",
    "        \n",
    "    @staticmethod    \n",
    "    def complex_form(real, imag):\n",
    "        \"This method form the correct format of complex number\"\n",
    "        if imag < 0:\n",
    "            out = \"{:.2f} - {:.2f}i\".format(real,abs(imag) )\n",
    "        else:\n",
    "            out = \"%.2f + %.2fi\" % (real, imag)\n",
    "        return out\n",
    "    \n",
    "    def __repr__(self): # information about class for debugging\n",
    "        return \"Self_define_complex({:.2f}, {:.2f})\".format(self.real, self.imag)\n",
    "    \n",
    "    def __str__(self): # information about class for users\n",
    "        out = self.complex_form(self.real, self.imag)\n",
    "        return out\n",
    "    \n",
    "    def __add__(self, other):\n",
    "        \"Addtion +\"\n",
    "        result_real = self.real + other.real\n",
    "        result_imag = self.imag + other.imag\n",
    "        return self.complex_form(result_real, result_imag)\n",
    "    \n",
    "    def __sub__(self, other):\n",
    "        \"substraction -\"\n",
    "        result_real = self.real - other.real\n",
    "        result_imag = self.imag - other.imag\n",
    "        return self.complex_form(result_real, result_imag)\n",
    "    \n",
    "    def __mul__(self, other):\n",
    "        \"Multiplication *\"\n",
    "        x = self.real # (x + yi)*(u + vi) = (xu - yv) + (xv + yu)i\n",
    "        y = self.imag\n",
    "        u = other.real\n",
    "        v = other.imag\n",
    "        result_real = x*u - y*v\n",
    "        result_imag = x*v + y*u\n",
    "        return self.complex_form(result_real, result_imag)\n",
    "    \n",
    "    def __truediv__(self, other):\n",
    "        \"Division /\"\n",
    "        a = self.real # (a+bi)/(c+di) = \n",
    "        b = self.imag # (ac+bd)/(c^2 + d^2) + i((bc-ad)/(c^2 + d^2))\n",
    "        c = other.real\n",
    "        d = other.imag\n",
    "        result_real = (a*c+b*d)/(c**2 + d**2)\n",
    "        result_imag = (b*c-a*d)/(c**2 + d**2)\n",
    "        return self.complex_form(result_real, result_imag)\n",
    "    \n",
    "    def mod(self):\n",
    "        import math\n",
    "        result_abs = math.sqrt(self.real**2 + self.imag**2)\n",
    "        return self.complex_form(result_abs, 0)\n",
    "    \n",
    "def complex_math_print(num1, num2):\n",
    "    \"This funtion took 2 instances from Self_define_complex class, print their arithmatic operation result(+-*/ and modulus)\"\n",
    "    print(num1 + num2)\n",
    "    print(num1 - num2)\n",
    "    print(num1 * num2)\n",
    "    print(num1 / num2)\n",
    "    print(num1.mod())\n",
    "    print(num2.mod())\n",
    "        \n",
    "#take input from users\n",
    "line1 = input(\"please input the first real and imaginary part of a complex number, seperated by space: \")\n",
    "line2 = input(\"please input the second real and imaginary part of a complex number, seperated by space: \")\n",
    "\n",
    "try:\n",
    "    pair1 = [float(item) for item in line1.split()] # convert input to a float list\n",
    "    pair2 = [float(item) for item in line2.split()]\n",
    "\n",
    "    num1 = Self_define_complex(pair1) # create two instance from class Self_define_complex\n",
    "    num2 = Self_define_complex(pair2)\n",
    "\n",
    "    complex_math_print(num1, num2) \n",
    "#     print(repr(num1))\n",
    "#     print(str(num1))\n",
    "except ValueError: # handle invild input from user, ex, input non-numeric characters. \n",
    "    print(\"INVALID input, please re-run the program, make sure both of your input is numeric and seperate by space\")\n",
    "\n",
    "\n",
    "        \n",
    "\n"
   ]
  },
  {
   "cell_type": "markdown",
   "metadata": {},
   "source": [
    "[Submit Hacker Rank Problem](https://www.hackerrank.com/challenges/class-1-dealing-with-complex-numbers/submissions)"
   ]
  },
  {
   "cell_type": "markdown",
   "metadata": {},
   "source": [
    "- - - \n",
    "<!--NAVIGATION-->\n",
    "Module 7. | [Objects and Classes](./01_obj_classes.ipynb) | [Examples of Objects and Classes](./02_ex_obj_classes.ipynb) | **[Exercises](./03_obj_classes_exercises.ipynb)**"
   ]
  },
  {
   "cell_type": "markdown",
   "metadata": {},
   "source": [
    "- - -\n",
    "\n",
    "Copyright © 2020 Qualex Consulting Services Incorporated."
   ]
  }
 ],
 "metadata": {
  "kernelspec": {
   "display_name": "Python 3 (ipykernel)",
   "language": "python",
   "name": "python3"
  },
  "language_info": {
   "codemirror_mode": {
    "name": "ipython",
    "version": 3
   },
   "file_extension": ".py",
   "mimetype": "text/x-python",
   "name": "python",
   "nbconvert_exporter": "python",
   "pygments_lexer": "ipython3",
   "version": "3.9.12"
  }
 },
 "nbformat": 4,
 "nbformat_minor": 4
}
