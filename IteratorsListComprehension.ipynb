{
 "cells": [
  {
   "cell_type": "markdown",
   "metadata": {},
   "source": [
    "Data Science Fundamentals: Python |\n",
    "[Table of Contents](../index.ipynb)\n",
    "- - - \n",
    "<!--NAVIGATION-->\n",
    "Module 5. | [Iterators](./01_iterators.ipynb) | [List Comprehension](./02_list_comprehension.ipynb) | [Generators](./03_generators.ipynb) | **[Exercises](./04_list_exercises.ipynb)**"
   ]
  },
  {
   "cell_type": "markdown",
   "metadata": {},
   "source": [
    "# Module 5: Practice Exercises"
   ]
  },
  {
   "cell_type": "markdown",
   "metadata": {},
   "source": [
    "## Exercise 1\n",
    "\n",
    "Exercise to create a tool that computes the cartesian product of input iterables.  It is equivalent to nested for-loops. For example, product(A, B) returns the same as ((x,y) for x in A for y in B). [See Hacker Rank Problem](https://www.hackerrank.com/challenges/itertools-product/problem)\n",
    "\n",
    "What is a **cartesian product**?\n",
    "\n",
    "In mathematics, specifically set theory, the Cartesian product of two sets A and B, denoted A × B, is the set of all ordered pairs where a is in A and b is in B."
   ]
  },
  {
   "cell_type": "raw",
   "metadata": {},
   "source": [
    "itertools.product()"
   ]
  },
  {
   "cell_type": "markdown",
   "metadata": {},
   "source": [
    "**Sample Code** "
   ]
  },
  {
   "cell_type": "raw",
   "metadata": {},
   "source": [
    ">>> A = [[1,2,3],[3,4,5]]\n",
    "\n",
    ">>> from itertools import product\n",
    ">>>\n",
    ">>> print list(product([1,2,3],repeat = 2))\n",
    "[(1, 1), (1, 2), (1, 3), (2, 1), (2, 2), (2, 3), (3, 1), (3, 2), (3, 3)]\n",
    ">>>\n",
    ">>> print list(product([1,2,3],[3,4]))\n",
    "[(1, 3), (1, 4), (2, 3), (2, 4), (3, 3), (3, 4)]\n",
    ">>>\n",
    ">>> A = [[1,2,3],[3,4,5]]\n",
    ">>> print list(product(*A))\n",
    "[(1, 3), (1, 4), (1, 5), (2, 3), (2, 4), (2, 5), (3, 3), (3, 4), (3, 5)]\n",
    ">>>\n",
    ">>> B = [[1,2,3],[3,4,5],[7,8]]\n",
    ">>> print list(product(*B))\n",
    "[(1, 3, 7), (1, 3, 8), (1, 4, 7), (1, 4, 8), (1, 5, 7), (1, 5, 8), (2, 3, 7), (2, 3, 8), (2, 4, 7), (2, 4, 8), (2, 5, 7), (2, 5, 8), (3, 3, 7), (3, 3, 8), (3, 4, 7), (3, 4, 8), (3, 5, 7), (3, 5, 8)]"
   ]
  },
  {
   "cell_type": "code",
   "execution_count": 17,
   "metadata": {},
   "outputs": [
    {
     "name": "stdout",
     "output_type": "stream",
     "text": [
      "(1, 1)\n",
      "(1, 3)\n",
      "(1, 4)\n",
      "(1, 1)\n",
      "(1, 3)\n",
      "(1, 4)\n",
      "(2, 1)\n",
      "(2, 3)\n",
      "(2, 4)\n",
      "{1, 3}\n",
      "{(1, 2)}\n"
     ]
    }
   ],
   "source": [
    "somelists = [[1,1,2],[1,3,4]]\n",
    "import itertools\n",
    "for element in itertools.product(*somelists):\n",
    "    print(element)\n",
    "\n",
    "   \n",
    "\n",
    "\n",
    "\n",
    "\n"
   ]
  },
  {
   "cell_type": "markdown",
   "metadata": {},
   "source": [
    "**Task**\n",
    "\n",
    "You are given a two lists A and B. Your task is to compute their cartesian product A X B."
   ]
  },
  {
   "cell_type": "markdown",
   "metadata": {},
   "source": [
    "**Example**"
   ]
  },
  {
   "cell_type": "raw",
   "metadata": {},
   "source": [
    "A = [1, 2]\n",
    "B = [3, 4]\n",
    "\n",
    "AxB = [(1, 3), (1, 4), (2, 3), (2, 4)]"
   ]
  },
  {
   "cell_type": "markdown",
   "metadata": {},
   "source": [
    "Note:  and  are sorted lists, and the cartesian product's tuples should be output in sorted order."
   ]
  },
  {
   "cell_type": "markdown",
   "metadata": {},
   "source": [
    "**Input Format**\n",
    "\n",
    "The first line contains the space separated elements of list A.\n",
    "The second line contains the space separated elements of list B.\n",
    "\n",
    "Both lists have no duplicate integer elements."
   ]
  },
  {
   "cell_type": "markdown",
   "metadata": {},
   "source": [
    "**Constraints**\n",
    "\n",
    "0 < A < 30\n",
    "\n",
    "0 < B < 30"
   ]
  },
  {
   "cell_type": "markdown",
   "metadata": {},
   "source": [
    "\n",
    "#### List Lengths\n",
    "- Copy two or three of the lists you made from the previous exercises, or make up two or three new lists.\n",
    "- Print out a series of statements that tell us how long each list is."
   ]
  },
  {
   "cell_type": "markdown",
   "metadata": {},
   "source": [
    "**Sample Input**"
   ]
  },
  {
   "cell_type": "raw",
   "metadata": {},
   "source": [
    " 1 2\n",
    " 3 4"
   ]
  },
  {
   "cell_type": "markdown",
   "metadata": {},
   "source": [
    "**Sample Output**"
   ]
  },
  {
   "cell_type": "raw",
   "metadata": {},
   "source": [
    " (1, 3) (1, 4) (2, 3) (2, 4)"
   ]
  },
  {
   "cell_type": "code",
   "execution_count": 29,
   "metadata": {},
   "outputs": [
    {
     "name": "stdout",
     "output_type": "stream",
     "text": [
      "(1, 3)\n",
      "(1, 4)\n",
      "(2, 3)\n",
      "(2, 4)\n"
     ]
    }
   ],
   "source": [
    "Inset1 = [1, 2]\n",
    "Inset2 = [3, 4]\n",
    "setsGroup = [Inset1, Inset2]\n",
    "#setsIter = iter(setsGroup)\n",
    "\n",
    "\n",
    "def carPairs(lst):\n",
    "    \n",
    "    for i in range(len(lst[0])):\n",
    "        for j in range(len(lst[1])):\n",
    "            yield (lst[0][i], lst[1][j])\n",
    "            \n",
    "def carProductPrint(lst):\n",
    "    for item in carPairs(lst):\n",
    "        print(item)\n",
    "        \n",
    "carProductPrint(setsGroup)\n",
    "\n",
    "# for item in carPairs(setsGroup):\n",
    "#     print(item)"
   ]
  },
  {
   "cell_type": "markdown",
   "metadata": {},
   "source": [
    "[Submit Solution to Hacker Rank](https://www.hackerrank.com/challenges/itertools-product/submissions)"
   ]
  },
  {
   "cell_type": "markdown",
   "metadata": {},
   "source": [
    "## Exercise 2\n",
    "\n",
    "Exercise wants you to create a tool returns successive ***r*** length permutations of elements in an iterable. If ***r*** is not specified or is None, then ***r*** defaults to the length of the iterable, and all possible full length permutations are generated. Permutations are printed in a lexicographic sorted order. So, if the input iterable is sorted, the permutation tuples will be produced in a sorted order. [See Hacker Rank Problem](https://www.hackerrank.com/challenges/itertools-permutations/problem)"
   ]
  },
  {
   "cell_type": "raw",
   "metadata": {},
   "source": [
    "itertools.permutations(iterable[, r])"
   ]
  },
  {
   "cell_type": "markdown",
   "metadata": {},
   "source": [
    "**Sample Code**"
   ]
  },
  {
   "cell_type": "raw",
   "metadata": {},
   "source": [
    ">>> from itertools import permutations\n",
    ">>> print permutations(['1','2','3'])\n",
    "<itertools.permutations object at 0x02A45210>\n",
    ">>> \n",
    ">>> print list(permutations(['1','2','3']))\n",
    "[('1', '2', '3'), ('1', '3', '2'), ('2', '1', '3'), ('2', '3', '1'), ('3', '1', '2'), ('3', '2', '1')]\n",
    ">>> \n",
    ">>> print list(permutations(['1','2','3'],2))\n",
    "[('1', '2'), ('1', '3'), ('2', '1'), ('2', '3'), ('3', '1'), ('3', '2')]\n",
    ">>>\n",
    ">>> print list(permutations('abc',3))\n",
    "[('a', 'b', 'c'), ('a', 'c', 'b'), ('b', 'a', 'c'), ('b', 'c', 'a'), ('c', 'a', 'b'), ('c', 'b', 'a')]"
   ]
  },
  {
   "cell_type": "markdown",
   "metadata": {},
   "source": [
    "**Task**\n",
    "\n",
    "You are given a string ***S***.\n",
    "\n",
    "Your task is to print all possible permutations of size ***k*** of the string in lexicographic sorted order."
   ]
  },
  {
   "cell_type": "markdown",
   "metadata": {},
   "source": [
    "**Input Format**\n",
    "\n",
    "A single line containing the space separated string ***S*** and the integer value ***k***."
   ]
  },
  {
   "cell_type": "markdown",
   "metadata": {},
   "source": [
    "**Constraints**"
   ]
  },
  {
   "cell_type": "raw",
   "metadata": {},
   "source": [
    "0 < k ≤ len(S)"
   ]
  },
  {
   "cell_type": "markdown",
   "metadata": {},
   "source": [
    "The string contains only UPPERCASE characters."
   ]
  },
  {
   "cell_type": "markdown",
   "metadata": {},
   "source": [
    "**Output Format**"
   ]
  },
  {
   "cell_type": "markdown",
   "metadata": {},
   "source": [
    "Print the permutations of the string ***S*** on separate lines."
   ]
  },
  {
   "cell_type": "markdown",
   "metadata": {},
   "source": [
    "**Sample Input**"
   ]
  },
  {
   "cell_type": "raw",
   "metadata": {},
   "source": [
    "HACK 2"
   ]
  },
  {
   "cell_type": "markdown",
   "metadata": {},
   "source": [
    "**Sample Output**"
   ]
  },
  {
   "cell_type": "raw",
   "metadata": {},
   "source": [
    "AC\n",
    "AH\n",
    "AK\n",
    "CA\n",
    "CH\n",
    "CK\n",
    "HA\n",
    "HC\n",
    "HK\n",
    "KA\n",
    "KC\n",
    "KH"
   ]
  },
  {
   "cell_type": "markdown",
   "metadata": {},
   "source": [
    "**Explanation**"
   ]
  },
  {
   "cell_type": "markdown",
   "metadata": {},
   "source": [
    "All possible size 2 permutations of the string \"HACK\" are printed in lexicographic sorted order."
   ]
  },
  {
   "cell_type": "code",
   "execution_count": 3,
   "metadata": {},
   "outputs": [
    {
     "name": "stdout",
     "output_type": "stream",
     "text": [
      "AC\n",
      "AH\n",
      "AK\n",
      "CA\n",
      "CH\n",
      "CK\n",
      "HA\n",
      "HC\n",
      "HK\n",
      "KA\n",
      "KC\n",
      "KH\n"
     ]
    }
   ],
   "source": [
    "\n",
    "def indexLoop2(string):\n",
    "    \"This function yield a iterator of all the possible size 2 permutations of a string index\"\n",
    "    indexlst = [i for i in range(len(string))] #create a list of index of the string\n",
    "    for i in range (len(indexlst)):\n",
    "        fix = indexlst[i]\n",
    "        remainaf = indexlst[i+1:] # list after i\n",
    "        remainbf = indexlst[:i]  #list before i\n",
    "        if len(remainbf) == 0: # if the element is the first of list\n",
    "            for j in range(len(remainaf)):\n",
    "                yield fix, remainaf[j]\n",
    "        elif len(remainaf) == 0: # if the element is the last of list\n",
    "            for k in range(len(remainbf)):\n",
    "                yield fix, remainbf[k]\n",
    "        else:\n",
    "            for l in range(len(remainaf)):\n",
    "                yield fix, remainaf[l]\n",
    "            for m in range(len(remainbf)):\n",
    "                yield fix, remainbf[m]\n",
    "               \n",
    "        i += 1\n",
    "\n",
    "def permutation2(string):\n",
    "    \"This function yield a iterator of all teh possible size 2 permutations of a string\"\n",
    "    out = \"\"\n",
    "    for item in indexLoop2(string):\n",
    "        yield str(string[item[0]]+string[item[1]])\n",
    "\n",
    "def permutation2sortedprint(string):\n",
    "    sortList = sorted([item for item in permutation2(string)])\n",
    "    for item in sortList:\n",
    "        print(item)\n",
    "\n",
    "Instring = \"HACK\"\n",
    "permutation2sortedprint(Instring)\n",
    "\n",
    "\n",
    "\n"
   ]
  },
  {
   "cell_type": "markdown",
   "metadata": {},
   "source": [
    "[Submit Solution To Hacker Rank](https://www.hackerrank.com/challenges/itertools-permutations/submissions)"
   ]
  },
  {
   "cell_type": "markdown",
   "metadata": {},
   "source": [
    "## Exercise 3\n",
    "\n",
    "This tool returns ***r*** length subsequences of elements from the input iterable allowing individual elements to be repeated more than once.\n",
    "\n",
    "Combinations are emitted in lexicographic sorted order. So, if the input iterable is sorted, the combination tuples will be produced in sorted order."
   ]
  },
  {
   "cell_type": "raw",
   "metadata": {},
   "source": [
    "itertools.combinations_with_replacement(iterable, r)"
   ]
  },
  {
   "cell_type": "markdown",
   "metadata": {},
   "source": [
    "**Sample Code**"
   ]
  },
  {
   "cell_type": "raw",
   "metadata": {},
   "source": [
    "# >>> from itertools import combinations_with_replacement\n",
    ">>> \n",
    ">>> print list(combinations_with_replacement('12345',2))\n",
    "[('1', '1'), ('1', '2'), ('1', '3'), ('1', '4'), ('1', '5'), ('2', '2'), ('2', '3'), ('2', '4'), ('2', '5'), ('3', '3'), ('3', '4'), ('3', '5'), ('4', '4'), ('4', '5'), ('5', '5')]\n",
    ">>> \n",
    ">>> A = [1,1,3,3,3]\n",
    ">>> print list(combinations(A,2))\n",
    "[(1, 1), (1, 3), (1, 3), (1, 3), (1, 3), (1, 3), (1, 3), (3, 3), (3, 3), (3, 3)]"
   ]
  },
  {
   "cell_type": "markdown",
   "metadata": {},
   "source": [
    "**Task**"
   ]
  },
  {
   "cell_type": "markdown",
   "metadata": {},
   "source": [
    "You are given a string ***S***.  \n",
    "\n",
    "Your task is to print all possible size ***k*** replacement combinations of the string in lexicographic sorted order."
   ]
  },
  {
   "cell_type": "markdown",
   "metadata": {},
   "source": [
    "**Input Format**"
   ]
  },
  {
   "cell_type": "markdown",
   "metadata": {},
   "source": [
    "A single line containing the string ***S*** and integer value ***k*** separated by a space."
   ]
  },
  {
   "cell_type": "markdown",
   "metadata": {},
   "source": [
    "**Constraints**"
   ]
  },
  {
   "cell_type": "raw",
   "metadata": {},
   "source": [
    "0 < k ≤ len(S)"
   ]
  },
  {
   "cell_type": "markdown",
   "metadata": {},
   "source": [
    "The string contains only UPPERCASE characters."
   ]
  },
  {
   "cell_type": "markdown",
   "metadata": {},
   "source": [
    "**Output Format**"
   ]
  },
  {
   "cell_type": "markdown",
   "metadata": {},
   "source": [
    "Print the combinations with their replacements of string ***S*** on separate lines."
   ]
  },
  {
   "cell_type": "markdown",
   "metadata": {},
   "source": [
    "**Sample Input**"
   ]
  },
  {
   "cell_type": "raw",
   "metadata": {},
   "source": [
    "HACK 2"
   ]
  },
  {
   "cell_type": "markdown",
   "metadata": {},
   "source": [
    "**Sample Output**"
   ]
  },
  {
   "cell_type": "raw",
   "metadata": {},
   "source": [
    "AA\n",
    "AC\n",
    "AH\n",
    "AK\n",
    "CC\n",
    "CH\n",
    "CK\n",
    "HH\n",
    "HK\n",
    "KK"
   ]
  },
  {
   "cell_type": "code",
   "execution_count": 33,
   "metadata": {},
   "outputs": [
    {
     "name": "stdout",
     "output_type": "stream",
     "text": [
      "AA\n",
      "AC\n",
      "AH\n",
      "AK\n",
      "CC\n",
      "CH\n",
      "CK\n",
      "HH\n",
      "HK\n",
      "KK\n"
     ]
    }
   ],
   "source": [
    "def SortedCombinationsWithReplacement(string, size):\n",
    "    lst = list(string)\n",
    "    lst.sort()\n",
    "    \n",
    "    from itertools import combinations_with_replacement\n",
    "    for item in combinations_with_replacement(lst, size):\n",
    "        line = \"\"\n",
    "        for i in range(size):\n",
    "            line += item[i]\n",
    "        print(line)\n",
    "        \n",
    "    \n",
    "Instring = \"HACK\"\n",
    "size = 2\n",
    "SortedCombinationsWithReplacement(Instring, size)"
   ]
  },
  {
   "cell_type": "markdown",
   "metadata": {},
   "source": [
    "## Submissions\n",
    "\n",
    "Take three screenshots showing your completed solution to each exercise and upload those images as your submission.  [Submit your screenshots here](https://titus.techtalentsouth.com/mod/assign/view.php?id=28682)"
   ]
  },
  {
   "cell_type": "markdown",
   "metadata": {},
   "source": [
    "[Submit Solution To Hacker Rank](https://www.hackerrank.com/challenges/itertools-combinations-with-replacement/submissions)"
   ]
  },
  {
   "cell_type": "markdown",
   "metadata": {},
   "source": [
    "### Extra Points.  Show all the permutations of the number bills shown. "
   ]
  },
  {
   "cell_type": "code",
   "execution_count": 43,
   "metadata": {},
   "outputs": [
    {
     "name": "stdout",
     "output_type": "stream",
     "text": [
      "(50,)\n",
      "(20,)\n",
      "(10,)\n",
      "(5,)\n",
      "(1,)\n",
      "(50, 20)\n",
      "(50, 10)\n",
      "(50, 5)\n",
      "(50, 1)\n",
      "(20, 50)\n",
      "(20, 10)\n",
      "(20, 5)\n",
      "(20, 1)\n",
      "(10, 50)\n",
      "(10, 20)\n",
      "(10, 5)\n",
      "(10, 1)\n",
      "(5, 50)\n",
      "(5, 20)\n",
      "(5, 10)\n",
      "(5, 1)\n",
      "(1, 50)\n",
      "(1, 20)\n",
      "(1, 10)\n",
      "(1, 5)\n",
      "(50, 20, 10)\n",
      "(50, 20, 5)\n",
      "(50, 20, 1)\n",
      "(50, 10, 20)\n",
      "(50, 10, 5)\n",
      "(50, 10, 1)\n",
      "(50, 5, 20)\n",
      "(50, 5, 10)\n",
      "(50, 5, 1)\n",
      "(50, 1, 20)\n",
      "(50, 1, 10)\n",
      "(50, 1, 5)\n",
      "(20, 50, 10)\n",
      "(20, 50, 5)\n",
      "(20, 50, 1)\n",
      "(20, 10, 50)\n",
      "(20, 10, 5)\n",
      "(20, 10, 1)\n",
      "(20, 5, 50)\n",
      "(20, 5, 10)\n",
      "(20, 5, 1)\n",
      "(20, 1, 50)\n",
      "(20, 1, 10)\n",
      "(20, 1, 5)\n",
      "(10, 50, 20)\n",
      "(10, 50, 5)\n",
      "(10, 50, 1)\n",
      "(10, 20, 50)\n",
      "(10, 20, 5)\n",
      "(10, 20, 1)\n",
      "(10, 5, 50)\n",
      "(10, 5, 20)\n",
      "(10, 5, 1)\n",
      "(10, 1, 50)\n",
      "(10, 1, 20)\n",
      "(10, 1, 5)\n",
      "(5, 50, 20)\n",
      "(5, 50, 10)\n",
      "(5, 50, 1)\n",
      "(5, 20, 50)\n",
      "(5, 20, 10)\n",
      "(5, 20, 1)\n",
      "(5, 10, 50)\n",
      "(5, 10, 20)\n",
      "(5, 10, 1)\n",
      "(5, 1, 50)\n",
      "(5, 1, 20)\n",
      "(5, 1, 10)\n",
      "(1, 50, 20)\n",
      "(1, 50, 10)\n",
      "(1, 50, 5)\n",
      "(1, 20, 50)\n",
      "(1, 20, 10)\n",
      "(1, 20, 5)\n",
      "(1, 10, 50)\n",
      "(1, 10, 20)\n",
      "(1, 10, 5)\n",
      "(1, 5, 50)\n",
      "(1, 5, 20)\n",
      "(1, 5, 10)\n",
      "(50, 20, 10, 5)\n",
      "(50, 20, 10, 1)\n",
      "(50, 20, 5, 10)\n",
      "(50, 20, 5, 1)\n",
      "(50, 20, 1, 10)\n",
      "(50, 20, 1, 5)\n",
      "(50, 10, 20, 5)\n",
      "(50, 10, 20, 1)\n",
      "(50, 10, 5, 20)\n",
      "(50, 10, 5, 1)\n",
      "(50, 10, 1, 20)\n",
      "(50, 10, 1, 5)\n",
      "(50, 5, 20, 10)\n",
      "(50, 5, 20, 1)\n",
      "(50, 5, 10, 20)\n",
      "(50, 5, 10, 1)\n",
      "(50, 5, 1, 20)\n",
      "(50, 5, 1, 10)\n",
      "(50, 1, 20, 10)\n",
      "(50, 1, 20, 5)\n",
      "(50, 1, 10, 20)\n",
      "(50, 1, 10, 5)\n",
      "(50, 1, 5, 20)\n",
      "(50, 1, 5, 10)\n",
      "(20, 50, 10, 5)\n",
      "(20, 50, 10, 1)\n",
      "(20, 50, 5, 10)\n",
      "(20, 50, 5, 1)\n",
      "(20, 50, 1, 10)\n",
      "(20, 50, 1, 5)\n",
      "(20, 10, 50, 5)\n",
      "(20, 10, 50, 1)\n",
      "(20, 10, 5, 50)\n",
      "(20, 10, 5, 1)\n",
      "(20, 10, 1, 50)\n",
      "(20, 10, 1, 5)\n",
      "(20, 5, 50, 10)\n",
      "(20, 5, 50, 1)\n",
      "(20, 5, 10, 50)\n",
      "(20, 5, 10, 1)\n",
      "(20, 5, 1, 50)\n",
      "(20, 5, 1, 10)\n",
      "(20, 1, 50, 10)\n",
      "(20, 1, 50, 5)\n",
      "(20, 1, 10, 50)\n",
      "(20, 1, 10, 5)\n",
      "(20, 1, 5, 50)\n",
      "(20, 1, 5, 10)\n",
      "(10, 50, 20, 5)\n",
      "(10, 50, 20, 1)\n",
      "(10, 50, 5, 20)\n",
      "(10, 50, 5, 1)\n",
      "(10, 50, 1, 20)\n",
      "(10, 50, 1, 5)\n",
      "(10, 20, 50, 5)\n",
      "(10, 20, 50, 1)\n",
      "(10, 20, 5, 50)\n",
      "(10, 20, 5, 1)\n",
      "(10, 20, 1, 50)\n",
      "(10, 20, 1, 5)\n",
      "(10, 5, 50, 20)\n",
      "(10, 5, 50, 1)\n",
      "(10, 5, 20, 50)\n",
      "(10, 5, 20, 1)\n",
      "(10, 5, 1, 50)\n",
      "(10, 5, 1, 20)\n",
      "(10, 1, 50, 20)\n",
      "(10, 1, 50, 5)\n",
      "(10, 1, 20, 50)\n",
      "(10, 1, 20, 5)\n",
      "(10, 1, 5, 50)\n",
      "(10, 1, 5, 20)\n",
      "(5, 50, 20, 10)\n",
      "(5, 50, 20, 1)\n",
      "(5, 50, 10, 20)\n",
      "(5, 50, 10, 1)\n",
      "(5, 50, 1, 20)\n",
      "(5, 50, 1, 10)\n",
      "(5, 20, 50, 10)\n",
      "(5, 20, 50, 1)\n",
      "(5, 20, 10, 50)\n",
      "(5, 20, 10, 1)\n",
      "(5, 20, 1, 50)\n",
      "(5, 20, 1, 10)\n",
      "(5, 10, 50, 20)\n",
      "(5, 10, 50, 1)\n",
      "(5, 10, 20, 50)\n",
      "(5, 10, 20, 1)\n",
      "(5, 10, 1, 50)\n",
      "(5, 10, 1, 20)\n",
      "(5, 1, 50, 20)\n",
      "(5, 1, 50, 10)\n",
      "(5, 1, 20, 50)\n",
      "(5, 1, 20, 10)\n",
      "(5, 1, 10, 50)\n",
      "(5, 1, 10, 20)\n",
      "(1, 50, 20, 10)\n",
      "(1, 50, 20, 5)\n",
      "(1, 50, 10, 20)\n",
      "(1, 50, 10, 5)\n",
      "(1, 50, 5, 20)\n",
      "(1, 50, 5, 10)\n",
      "(1, 20, 50, 10)\n",
      "(1, 20, 50, 5)\n",
      "(1, 20, 10, 50)\n",
      "(1, 20, 10, 5)\n",
      "(1, 20, 5, 50)\n",
      "(1, 20, 5, 10)\n",
      "(1, 10, 50, 20)\n",
      "(1, 10, 50, 5)\n",
      "(1, 10, 20, 50)\n",
      "(1, 10, 20, 5)\n",
      "(1, 10, 5, 50)\n",
      "(1, 10, 5, 20)\n",
      "(1, 5, 50, 20)\n",
      "(1, 5, 50, 10)\n",
      "(1, 5, 20, 50)\n",
      "(1, 5, 20, 10)\n",
      "(1, 5, 10, 50)\n",
      "(1, 5, 10, 20)\n",
      "(50, 20, 10, 5, 1)\n",
      "(50, 20, 10, 1, 5)\n",
      "(50, 20, 5, 10, 1)\n",
      "(50, 20, 5, 1, 10)\n",
      "(50, 20, 1, 10, 5)\n",
      "(50, 20, 1, 5, 10)\n",
      "(50, 10, 20, 5, 1)\n",
      "(50, 10, 20, 1, 5)\n",
      "(50, 10, 5, 20, 1)\n",
      "(50, 10, 5, 1, 20)\n",
      "(50, 10, 1, 20, 5)\n",
      "(50, 10, 1, 5, 20)\n",
      "(50, 5, 20, 10, 1)\n",
      "(50, 5, 20, 1, 10)\n",
      "(50, 5, 10, 20, 1)\n",
      "(50, 5, 10, 1, 20)\n",
      "(50, 5, 1, 20, 10)\n",
      "(50, 5, 1, 10, 20)\n",
      "(50, 1, 20, 10, 5)\n",
      "(50, 1, 20, 5, 10)\n",
      "(50, 1, 10, 20, 5)\n",
      "(50, 1, 10, 5, 20)\n",
      "(50, 1, 5, 20, 10)\n",
      "(50, 1, 5, 10, 20)\n",
      "(20, 50, 10, 5, 1)\n",
      "(20, 50, 10, 1, 5)\n",
      "(20, 50, 5, 10, 1)\n",
      "(20, 50, 5, 1, 10)\n",
      "(20, 50, 1, 10, 5)\n",
      "(20, 50, 1, 5, 10)\n",
      "(20, 10, 50, 5, 1)\n",
      "(20, 10, 50, 1, 5)\n",
      "(20, 10, 5, 50, 1)\n",
      "(20, 10, 5, 1, 50)\n",
      "(20, 10, 1, 50, 5)\n",
      "(20, 10, 1, 5, 50)\n",
      "(20, 5, 50, 10, 1)\n",
      "(20, 5, 50, 1, 10)\n",
      "(20, 5, 10, 50, 1)\n",
      "(20, 5, 10, 1, 50)\n",
      "(20, 5, 1, 50, 10)\n",
      "(20, 5, 1, 10, 50)\n",
      "(20, 1, 50, 10, 5)\n",
      "(20, 1, 50, 5, 10)\n",
      "(20, 1, 10, 50, 5)\n",
      "(20, 1, 10, 5, 50)\n",
      "(20, 1, 5, 50, 10)\n",
      "(20, 1, 5, 10, 50)\n",
      "(10, 50, 20, 5, 1)\n",
      "(10, 50, 20, 1, 5)\n",
      "(10, 50, 5, 20, 1)\n",
      "(10, 50, 5, 1, 20)\n",
      "(10, 50, 1, 20, 5)\n",
      "(10, 50, 1, 5, 20)\n",
      "(10, 20, 50, 5, 1)\n",
      "(10, 20, 50, 1, 5)\n",
      "(10, 20, 5, 50, 1)\n",
      "(10, 20, 5, 1, 50)\n",
      "(10, 20, 1, 50, 5)\n",
      "(10, 20, 1, 5, 50)\n",
      "(10, 5, 50, 20, 1)\n",
      "(10, 5, 50, 1, 20)\n",
      "(10, 5, 20, 50, 1)\n",
      "(10, 5, 20, 1, 50)\n",
      "(10, 5, 1, 50, 20)\n",
      "(10, 5, 1, 20, 50)\n",
      "(10, 1, 50, 20, 5)\n",
      "(10, 1, 50, 5, 20)\n",
      "(10, 1, 20, 50, 5)\n",
      "(10, 1, 20, 5, 50)\n",
      "(10, 1, 5, 50, 20)\n",
      "(10, 1, 5, 20, 50)\n",
      "(5, 50, 20, 10, 1)\n",
      "(5, 50, 20, 1, 10)\n",
      "(5, 50, 10, 20, 1)\n",
      "(5, 50, 10, 1, 20)\n",
      "(5, 50, 1, 20, 10)\n",
      "(5, 50, 1, 10, 20)\n",
      "(5, 20, 50, 10, 1)\n",
      "(5, 20, 50, 1, 10)\n",
      "(5, 20, 10, 50, 1)\n",
      "(5, 20, 10, 1, 50)\n",
      "(5, 20, 1, 50, 10)\n",
      "(5, 20, 1, 10, 50)\n",
      "(5, 10, 50, 20, 1)\n",
      "(5, 10, 50, 1, 20)\n",
      "(5, 10, 20, 50, 1)\n",
      "(5, 10, 20, 1, 50)\n",
      "(5, 10, 1, 50, 20)\n",
      "(5, 10, 1, 20, 50)\n",
      "(5, 1, 50, 20, 10)\n",
      "(5, 1, 50, 10, 20)\n",
      "(5, 1, 20, 50, 10)\n",
      "(5, 1, 20, 10, 50)\n",
      "(5, 1, 10, 50, 20)\n",
      "(5, 1, 10, 20, 50)\n",
      "(1, 50, 20, 10, 5)\n",
      "(1, 50, 20, 5, 10)\n",
      "(1, 50, 10, 20, 5)\n",
      "(1, 50, 10, 5, 20)\n",
      "(1, 50, 5, 20, 10)\n",
      "(1, 50, 5, 10, 20)\n",
      "(1, 20, 50, 10, 5)\n",
      "(1, 20, 50, 5, 10)\n",
      "(1, 20, 10, 50, 5)\n",
      "(1, 20, 10, 5, 50)\n",
      "(1, 20, 5, 50, 10)\n",
      "(1, 20, 5, 10, 50)\n",
      "(1, 10, 50, 20, 5)\n",
      "(1, 10, 50, 5, 20)\n",
      "(1, 10, 20, 50, 5)\n",
      "(1, 10, 20, 5, 50)\n",
      "(1, 10, 5, 50, 20)\n",
      "(1, 10, 5, 20, 50)\n",
      "(1, 5, 50, 20, 10)\n",
      "(1, 5, 50, 10, 20)\n",
      "(1, 5, 20, 50, 10)\n",
      "(1, 5, 20, 10, 50)\n",
      "(1, 5, 10, 50, 20)\n",
      "(1, 5, 10, 20, 50)\n"
     ]
    }
   ],
   "source": [
    "# from itertools import permutations\n",
    "# for item in permutations(bills):\n",
    "#     print(item)\n",
    "def allPermutations(list):\n",
    "    from itertools import permutations\n",
    "    n = 1\n",
    "    while n <= len(list):\n",
    "        for item in permutations(list, n):\n",
    "            print(item)\n",
    "        n += 1\n",
    "#     permutations(list)\n",
    "#     for item in permutations(list):\n",
    "#         print(item)\n",
    "    \n",
    "bills = [50, 20, 10, 5, 1]\n",
    "allPermutations(bills)\n"
   ]
  },
  {
   "cell_type": "markdown",
   "metadata": {},
   "source": [
    "- - -\n",
    "## Extra Points"
   ]
  },
  {
   "cell_type": "markdown",
   "metadata": {},
   "source": [
    "1. Optional Exercise (Extra Points).  Using a list comprehension, create a new list called \"newlist\" out of the list \"numbers\", which contains only the positive numbers from the list, as integers."
   ]
  },
  {
   "cell_type": "code",
   "execution_count": 44,
   "metadata": {},
   "outputs": [
    {
     "name": "stdout",
     "output_type": "stream",
     "text": [
      "[34, 44, 68, 44, 12]\n"
     ]
    }
   ],
   "source": [
    "numbers = [34.6, -203.4, 44.9, 68.3, -12.2, 44.6, 12.7]\n",
    "newlst = [int(num) for num in numbers if num > 0]\n",
    "print(newlst)"
   ]
  },
  {
   "cell_type": "markdown",
   "metadata": {},
   "source": [
    "- - - \n",
    "<!--NAVIGATION-->\n",
    "Module 5. | [Iterators](./01_iterators.ipynb) | [List Comprehension](./02_list_comprehension.ipynb) | [Generators](./03_generators.ipynb) | **[Exercises](./04_list_exercises.ipynb)**\n",
    "<br>\n",
    "[Top](#)"
   ]
  },
  {
   "cell_type": "markdown",
   "metadata": {},
   "source": [
    "- - -\n",
    "\n",
    "Copyright © 2020 Qualex Consulting Services Incorporated."
   ]
  }
 ],
 "metadata": {
  "kernelspec": {
   "display_name": "Python 3 (ipykernel)",
   "language": "python",
   "name": "python3"
  },
  "language_info": {
   "codemirror_mode": {
    "name": "ipython",
    "version": 3
   },
   "file_extension": ".py",
   "mimetype": "text/x-python",
   "name": "python",
   "nbconvert_exporter": "python",
   "pygments_lexer": "ipython3",
   "version": "3.9.12"
  }
 },
 "nbformat": 4,
 "nbformat_minor": 4
}
