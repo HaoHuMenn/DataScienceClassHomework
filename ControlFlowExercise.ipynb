{
 "cells": [
  {
   "cell_type": "markdown",
   "metadata": {},
   "source": [
    "Data Science Fundamentals: Python |\n",
    "[Table of Contents](../index.ipynb)\n",
    "- - - \n",
    "<!--NAVIGATION-->\n",
    "Module 3. [Control Flow](./01_mod_control_flow.ipynb) | [Statements](./02_python_statements.ipynb) | [Functions](./03_python_functions.ipynb) | **[Exercises](./04_mod_exercises.ipynb)**\n",
    "<!--NAVIGATION-->\n",
    "Supplemental. [While Loops](./supplemental/01_while-loop.ipynb) | [If Elif Else](./supplemental/02_if-elif-else.ipynb) | [Break Continue](./supplemental/03_break_continue.ipynb) | [For Loops](./04_for_loop.ipynb)\n",
    "<!--NAVIGATION-->\n",
    "Optional. [Writing Assignment](./optional/writing_assignment.ipynb) | [Real World Examples](./optional/real_world_examples.ipynb)"
   ]
  },
  {
   "cell_type": "markdown",
   "metadata": {},
   "source": [
    "# Module 3: Practice Exercises"
   ]
  },
  {
   "cell_type": "markdown",
   "metadata": {},
   "source": [
    "### Exercise 1\n",
    "Guess a number between 1 to 9 given by the user. Hint. [Random](https://docs.python.org/3/library/random.html)"
   ]
  },
  {
   "cell_type": "code",
   "execution_count": 60,
   "metadata": {},
   "outputs": [
    {
     "name": "stdout",
     "output_type": "stream",
     "text": [
      "Guess a number between 1 and 9 until you get it right: 1\n",
      "Too small, try a bigger integer: 5\n",
      "Too small, try a bigger integer: 6\n",
      "Too small, try a bigger integer: 9\n",
      "Too big, try a smaller ingeger: 8\n",
      "Congratulations! You guessed correct!\n"
     ]
    }
   ],
   "source": [
    "import random\n",
    "guessGoal = random.randrange(1,10) # generate a random integer in [1, 9]\n",
    "#print(guessGoal)\n",
    "\n",
    "#define a funtion take a string, return an integer if conditions meet:\n",
    "#check if user's input is an integer in [1,9]\n",
    "def validCheck(In):\n",
    "    \"This function checks if user's input string is an integer in [1,9] \\\n",
    "    and return an integer if conditions meet\"\n",
    "    while not In.isnumeric() or int(In) < 1 or int(In) > 9:\n",
    "        In = input(\"Ops, invalid input, please make sure your guess is an integer between 1 and 9: \")\n",
    "    In = int(In)\n",
    "    return(In)\n",
    "\n",
    "##note: two ways of accessing function doc tring\n",
    "#print(\"The validCheck is: \", validCheck.__doc__)\n",
    "#help(validCheck)\n",
    "\n",
    "userIn = input(\"Guess a number between 1 and 9 until you get it right: \")\n",
    "userIn = validCheck(userIn)\n",
    "#print(userIn)\n",
    "while True:\n",
    "    if userIn > guessGoal:\n",
    "        userIn = input(\"Too big, try a smaller ingeger: \")\n",
    "        userIn = validCheck(userIn)\n",
    "    elif userIn < guessGoal:\n",
    "        userIn = input(\"Too small, try a bigger integer: \")\n",
    "        userIn = validCheck(userIn)\n",
    "    else: \n",
    "        print(\"Congratulations! You guessed correct!\")\n",
    "        break\n",
    "\n",
    "\n"
   ]
  },
  {
   "cell_type": "markdown",
   "metadata": {},
   "source": [
    "### Exercise 2\n",
    "Check the validity of password input by the user. Hint. [Re](https://docs.python.org/3/library/re.html) which does matching operations much like Perl.\n",
    "\n",
    "Validation:\n",
    "\n",
    "- At least 1 letter between [a-z] and 1 letter between [A-Z].\n",
    "- At least 1 number between [0-9].\n",
    "- At least 1 character from [$#@].\n",
    "- Minimum length 6 characters.\n",
    "- Maximum length 16 characters."
   ]
  },
  {
   "cell_type": "code",
   "execution_count": 73,
   "metadata": {},
   "outputs": [
    {
     "name": "stdout",
     "output_type": "stream",
     "text": [
      "please input your password: aA9#aA9\n",
      "Valid Password\n"
     ]
    }
   ],
   "source": [
    "password = input(\"please input your password: \")\n",
    "import re\n",
    "while True:\n",
    "    if len(password) < 6:\n",
    "        password = input(\"Your password is too short, please make sure it is at least 6 characters: \")\n",
    "    \n",
    "    elif len(password) > 16:\n",
    "        password = input(\"Your password is too long, please make sure it is no more than 16 characters: \")\n",
    "        \n",
    "    elif re.search(\"[a-z]\", password) == None:\n",
    "        password = input(\"Please include at least 1 lowercase letter: \")\n",
    "        \n",
    "    elif re.search(\"[A-Z]\", password) == None:\n",
    "        password = input(\"Please include at least 1 uppercase letter: \")\n",
    "        \n",
    "    elif re.search(\"[0-9]\", password) == None:\n",
    "        password = input(\"Please include at least 1 number between 0 to 9: \")\n",
    "        \n",
    "    elif re.search(\"[$#@]\", password) == None:\n",
    "        password = input(\"Please include at least 1 of the characters $#@: \")\n",
    "        \n",
    "    else:\n",
    "        print(\"Valid Password\")\n",
    "        break\n",
    "        \n",
    "    \n"
   ]
  },
  {
   "cell_type": "markdown",
   "metadata": {},
   "source": [
    "### Excercise 3\n",
    "Get input of the age of 3 people by user and determine oldest and youngest among them"
   ]
  },
  {
   "cell_type": "code",
   "execution_count": 97,
   "metadata": {},
   "outputs": [
    {
     "name": "stdout",
     "output_type": "stream",
     "text": [
      "Enter First Person's Age : 15\n",
      "Enter Second Person's Age : 5\n",
      "Enter Third Person's Age : 86\n",
      "The oldest age of all three people is:  86\n",
      "The youngest age of all three people is:  5\n"
     ]
    }
   ],
   "source": [
    "def inputNum(In): # pass tring as parameter\n",
    "    \"This function make sure user's input is an integer and returns the integer. \"\n",
    "    while not In.isnumeric(): # the string is not integer(cannot use int()) \n",
    "        In = input (\"Ops,invalid input, please make sure you type in a non-negative integer: \") #retake input from user\n",
    "    return int(In) # convert to integer\n",
    "\n",
    "age1 = input(\"Enter First Person's Age : \")\n",
    "age1 = inputNum(age1)\n",
    "\n",
    "age2 = input(\"Enter Second Person's Age : \")\n",
    "age2 = inputNum(age2)\n",
    "\n",
    "age3 = input(\"Enter Third Person's Age : \")\n",
    "age3 = inputNum(age3)\n",
    "\n",
    "lst = [age1, age2, age3]\n",
    "print(\"The oldest age of all three people is: \", max(lst))\n",
    "print(\"The youngest age of all three people is: \", min(lst))"
   ]
  },
  {
   "cell_type": "markdown",
   "metadata": {},
   "source": [
    "### Excercise 4\n",
    "\n",
    "A student will not be allowed to sit in exam if his/her attendance is less than 75%.\n",
    "\n",
    "Take following input from user\n",
    "\n",
    "- Number of classes held\n",
    "- Number of classes attended.\n",
    "- And print percentage of class attended\n",
    "- Is student is allowed to sit in exam or not?"
   ]
  },
  {
   "cell_type": "code",
   "execution_count": 96,
   "metadata": {},
   "outputs": [
    {
     "name": "stdout",
     "output_type": "stream",
     "text": [
      "How many classes are held: 10\n",
      "How many class have you attended: 2\n",
      "You have attended 20.00% of the classes\n",
      "You cannot take part in the exam because your attendance is less than 75%\n"
     ]
    }
   ],
   "source": [
    "def inputNum(In): # pass tring as parameter\n",
    "    \"This function make sure user's input is an integer and returns the integer. \"\n",
    "    while not In.isnumeric(): # the string is not integer(cannot use int()) \n",
    "        In = input (\"Ops,invalid input, please make sure you type in a non-negative integer: \") #retake input from user\n",
    "    return int(In) # convert to integer\n",
    "    \n",
    "numOfClass = input(\"How many classes are held: \")\n",
    "numOfClass = inputNum(numOfClass) #check if user's input is an integer\n",
    "\n",
    "while numOfClass == 0: # make sure the denominator is not 0.\n",
    "    numOfClass = input(\"Number of class held cannot be 0, please input a positive integer: \")\n",
    "    \n",
    "numOfAttend = input(\"How many class have you attended: \")\n",
    "numOfAttend = inputNum(numOfAttend)\n",
    "\n",
    "attend = numOfAttend/numOfClass\n",
    "print(\"You have attended {:.2%} of the classes\".format(attend))\n",
    "\n",
    "if attend < 0.75:\n",
    "    print(\"You cannot take part in the exam because your attendance is less than 75%\")\n",
    "    \n",
    "else:\n",
    "    print(\"You can take the exam. Good luck!\")\n",
    "\n"
   ]
  },
  {
   "cell_type": "markdown",
   "metadata": {},
   "source": [
    "### Excercise 5\n",
    "\n",
    "Get an integer N from the user and perform the following actions:\n",
    "\n",
    "Find out - \n",
    "- if N is odd, print \"weird\"\n",
    "- if N is even and in the inclusive range of 2 to 5, print \"Not Weird\"\n",
    "- if N is even and in the inclusive range of 6 to 20, print \"Weird\"\n",
    "- if N is even and greater than 20, print \"Not Weird\""
   ]
  },
  {
   "cell_type": "code",
   "execution_count": 113,
   "metadata": {},
   "outputs": [
    {
     "name": "stdout",
     "output_type": "stream",
     "text": [
      "Input a integer to see if you are weird or not weird: 22\n",
      "Not Weird\n"
     ]
    }
   ],
   "source": [
    "def inputNum(In): # pass tring as parameter\n",
    "    \"This function make sure user's input is an integer and returns the integer. \"\n",
    "    while not In.isnumeric(): # the string is not integer(cannot use int()) \n",
    "        In = input (\"Ops,invalid input, please make sure you type in a non-negative integer: \") #retake input from user\n",
    "    return int(In) # convert to integer\n",
    "\n",
    "N = input(\"Input a integer to see if you are weird or not weird: \") # take user input as tring\n",
    "N = inputNum(N) # check if N is a positive integer and convert to int if it is\n",
    "\n",
    "if N % 2 != 0: # if n is odd, print Weird\n",
    "    print(\"Weird\")\n",
    "    \n",
    "elif N >= 2 and N <= 5: # if n is even and in [2,5], print Not Weird\n",
    "    print(\"Not Weird\")\n",
    "    \n",
    "elif N >= 6 and N <= 20: # if n is even and in [6,22], print Weird\n",
    "    print(\"Weird\")\n",
    "    \n",
    "elif N > 20: # if n is even and greater than 20, print Not Weird\n",
    "    print(\"Not Weird\")\n",
    "else: # if n is 0\n",
    "    print(\"I don't know, you are 0...\")\n",
    "\n"
   ]
  },
  {
   "cell_type": "markdown",
   "metadata": {},
   "source": [
    "\n",
    "## Extra Points\n",
    "- - -"
   ]
  },
  {
   "cell_type": "markdown",
   "metadata": {},
   "source": [
    "1) ***Optional Exercise (Extra Points)***. Write a Python program to reverse a string."
   ]
  },
  {
   "cell_type": "raw",
   "metadata": {},
   "source": [
    "Sample String : \"1234abcd\"\n",
    "Expected Output : \"dcba4321\""
   ]
  },
  {
   "cell_type": "code",
   "execution_count": 126,
   "metadata": {},
   "outputs": [
    {
     "name": "stdout",
     "output_type": "stream",
     "text": [
      "Input a string to reverse: 1234abcd\n",
      "dcba4321\n"
     ]
    }
   ],
   "source": [
    "samStr = input(\"Input a string to reverse: \")\n",
    "samStr = sorted(samStr, reverse = True) # sorted funtion return a list\n",
    "samStr = \"\".join(samStr) # seperater.join() method to convert back to string\n",
    "\n",
    "print(samStr)"
   ]
  },
  {
   "cell_type": "markdown",
   "metadata": {},
   "source": [
    "2) ***Optional Exercise (Extra Points)***. Write a Python function to multiply all the numbers in a list. "
   ]
  },
  {
   "cell_type": "raw",
   "metadata": {},
   "source": [
    "Sample List : (8, 2, 3, -1, 7)\n",
    "Expected Output : -336"
   ]
  },
  {
   "cell_type": "code",
   "execution_count": 127,
   "metadata": {},
   "outputs": [
    {
     "name": "stdout",
     "output_type": "stream",
     "text": [
      "-336\n"
     ]
    }
   ],
   "source": [
    "def mutiLst(lst):\n",
    "    \"This function multiply all the numbers in a list\"\n",
    "    num = 1\n",
    "    for i in lst:\n",
    "        num *= i\n",
    "    return num\n",
    "\n",
    "samLst = [8,2,3,-1,7]\n",
    "outPut = mutiLst(samLst)\n",
    "print(outPut)\n",
    "        "
   ]
  },
  {
   "cell_type": "markdown",
   "metadata": {},
   "source": [
    "3) ***Optional Exercise (Extra Points)***. Write a Python function that accepts a string and calculate the number of upper case letters and lower case letters."
   ]
  },
  {
   "cell_type": "raw",
   "metadata": {},
   "source": [
    "Sample String : 'The quick Brow Fox'\n",
    "Expected Output :\n",
    "No. of Upper case characters : 3\n",
    "No. of Lower case Characters : 12"
   ]
  },
  {
   "cell_type": "code",
   "execution_count": 132,
   "metadata": {},
   "outputs": [
    {
     "name": "stdout",
     "output_type": "stream",
     "text": [
      "Please type in a sentence to calculate the number of upper and lower case letters: The quick Brow Fox\n",
      "No. of Upper Case Characters:  3\n",
      "No. of Lower Case Characters:  12\n"
     ]
    },
    {
     "data": {
      "text/plain": [
       "(3, 12)"
      ]
     },
     "execution_count": 132,
     "metadata": {},
     "output_type": "execute_result"
    }
   ],
   "source": [
    "def caseCal(Str):\n",
    "    \"This function accepts a string and calculate the number of upper and lower case letters.\\\n",
    "    It would print out the result and return the result as tuple (upperCount,lowerCount)\"\n",
    "    \n",
    "    upperCount = 0\n",
    "    lowerCount = 0\n",
    "    for i in Str:\n",
    "        if i.isupper():\n",
    "            upperCount += 1\n",
    "        elif i.islower():\n",
    "            lowerCount += 1\n",
    "        else:\n",
    "            continue\n",
    "    print(\"No. of Upper Case Characters: \", upperCount) #print result\n",
    "    print(\"No. of Lower Case Characters: \", lowerCount)\n",
    "    return(upperCount,lowerCount) #return a tuple\n",
    "\n",
    "samStr = input(\"Please type in a sentence to calculate the number of upper and lower case letters: \")\n",
    "caseCal(samStr)"
   ]
  },
  {
   "cell_type": "markdown",
   "metadata": {},
   "source": [
    "- - -\n",
    "\n",
    "Copyright © 2020 Qualex Consulting Services Incorporated."
   ]
  }
 ],
 "metadata": {
  "kernelspec": {
   "display_name": "Python 3 (ipykernel)",
   "language": "python",
   "name": "python3"
  },
  "language_info": {
   "codemirror_mode": {
    "name": "ipython",
    "version": 3
   },
   "file_extension": ".py",
   "mimetype": "text/x-python",
   "name": "python",
   "nbconvert_exporter": "python",
   "pygments_lexer": "ipython3",
   "version": "3.9.12"
  }
 },
 "nbformat": 4,
 "nbformat_minor": 4
}
