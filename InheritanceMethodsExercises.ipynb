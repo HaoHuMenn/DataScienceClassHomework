{
 "cells": [
  {
   "cell_type": "markdown",
   "metadata": {},
   "source": [
    "Data Science Fundamentals: Python |\n",
    "[Table of Contents](../index.ipynb)\n",
    "- - - \n",
    "<!--NAVIGATION-->\n",
    "Module 8. | [Inheritance & Methods](./01_oop_inheritance.ipynb) | [Sequences, Iterables, Generators Revisited](02_revisited.ipynb) | **[Exercises](./03_inheritance_methods_exercises.ipynb)**"
   ]
  },
  {
   "cell_type": "markdown",
   "metadata": {},
   "source": [
    "# Module 8: Practice Exercises"
   ]
  },
  {
   "cell_type": "markdown",
   "metadata": {},
   "source": [
    "## Exercise 1. "
   ]
  },
  {
   "cell_type": "markdown",
   "metadata": {},
   "source": [
    "You are given two classes, Person and Student, where Person is the base class and Student is the derived class. Completed code for Person and a declaration for Student are provided for you in the editor. Observe that Student inherits all the properties of Person.\n",
    "\n",
    "Complete the Student class by writing the following:\n",
    "\n",
    "A Student class constructor, which has 4 parameters:\n",
    "- A string, firstName\n",
    "- A string, lastName\n",
    "- An integer, id\n",
    "An integer array (or vector) of test scores, scores\n",
    "\n",
    "A char **calculate()** method that calculates a Student object's average and returns the grade character representative of their calculated average:\n",
    "```\n",
    "A | 90-100\n",
    "B | 80-89\n",
    "C | 70-79\n",
    "D | 60-69\n",
    "F | <60\n",
    "```"
   ]
  },
  {
   "cell_type": "markdown",
   "metadata": {},
   "source": [
    "##### Input example: <br>\n",
    "First name: Gary<br>\n",
    "Last name: Jackson<br>\n",
    "Student ID: 7<br>\n",
    "Enter a list grades separated by space: 80 50 90 75 85<br>\n",
    "Gary Jackson Student ID 7, you got a C.<br>"
   ]
  },
  {
   "cell_type": "code",
   "execution_count": 1,
   "metadata": {},
   "outputs": [],
   "source": [
    "# define the Vehicle class\n",
    "\n",
    "class Person:\n",
    "    def __init__(self, fname, lname):\n",
    "        self.fname = fname\n",
    "        self.lname = lname\n",
    "    \n",
    "    def desc(self):\n",
    "        desc_person = \"%s %s is a person.\" % (self.fname, self.lname)\n",
    "        return desc_person\n",
    "\n",
    "class Student(Person):\n",
    "    def __init__(self, fname, lname, ID, scores = None):\n",
    "        super().__init__(fname,lname)\n",
    "        self.ID = ID\n",
    "        if scores != None:\n",
    "            self.scores = [int(score) for score in scores.split()]\n",
    "            self.aveScore = sum(self.scores)/len(self.scores)\n",
    "        else:\n",
    "            self.scores = []\n",
    "            \n",
    "    def desc(self):\n",
    "        desc_person = \"%s %s is a student.\" % (self.fname, self.lname)\n",
    "        return desc_person\n",
    "    \n",
    "    def calculate(self):\n",
    "        gradeChar = \"\"\n",
    "        if len(self.scores) == 0:\n",
    "            gradeChar = \"%s %s Student ID %s, you don't have any grade\" % (self.fname, self.lname, self.ID)\n",
    "        else:\n",
    "            if self.aveScore in range(90, 101): # score in 90 - 100, A\n",
    "                gradeChar = \"%s %s Student ID %s, you got a A.\" % (self.fname, self.lname, self.ID)\n",
    "            elif self.aveScore in range(80, 90): # 80-89 B\n",
    "                gradeChar = \"%s %s Student ID %s, you got a B.\" % (self.fname, self.lname, self.ID)\n",
    "            elif self.aveScore in range (70, 80): #C | 70-79\n",
    "                gradeChar = \"%s %s Student ID %s, you got a C.\" % (self.fname, self.lname, self.ID)\n",
    "            elif self.aveScore in range (60, 70): #D | 60-69\n",
    "                gradeChar = \"%s %s Student ID %s, you got a D.\" % (self.fname, self.lname, self.ID)\n",
    "            else: #F | <60\n",
    "                gradeChar = \"%s %s Student ID %s, you got a F.\" % (self.fname, self.lname, self.ID)\n",
    "            return gradeChar\n",
    "                    \n",
    "class Grades(Student):\n",
    "        \n",
    "    def desc(self):\n",
    "        if len(self.scores) == 0:\n",
    "            desc_person = \"%s %s doesn't have grades.\" % (self.fname, self.lname)\n",
    "        else:\n",
    "            desc_person = \"%s %s has grades.\" % (self.fname, self.lname)\n",
    "        return desc_person\n",
    "    \n"
   ]
  },
  {
   "cell_type": "code",
   "execution_count": 2,
   "metadata": {},
   "outputs": [
    {
     "name": "stdout",
     "output_type": "stream",
     "text": [
      "Please input your first name: Gary\n",
      "Please input your last name: Jackson\n",
      "Please input your student ID: 7\n",
      "Please enter your grades, separated by space: 80 50 90 75 85\n",
      "Gary Jackson Student ID 7, you got a C.\n"
     ]
    }
   ],
   "source": [
    "#Please run the first cell first\n",
    "fname = input(\"Please input your first name: \").capitalize()\n",
    "lname = input(\"Please input your last name: \").capitalize()\n",
    "ID = input(\"Please input your student ID: \")\n",
    "Glst = input(\"Please enter your grades, separated by space: \")\n",
    "\n",
    "try:\n",
    "    student1 = Student(fname, lname, ID, Glst)\n",
    "    print(student1.calculate())\n",
    "except ValueError:\n",
    "    print(\"Invalid input, please restart the program, the grades should be numbers and seperated by space.\")"
   ]
  },
  {
   "cell_type": "code",
   "execution_count": 3,
   "metadata": {},
   "outputs": [
    {
     "name": "stdout",
     "output_type": "stream",
     "text": [
      "Ann Johnson is a person.\n",
      "Gary Jackson is a student.\n",
      "Gary Jackson Student ID 7, you got a C.\n",
      "Gary Jackson doesn't have grades.\n"
     ]
    }
   ],
   "source": [
    "# your code goes here\n",
    "#Please run the first cell first\n",
    "person1 = Person(\"Gary\", \"Jackson\")\n",
    "person1.fname = \"Ann\"\n",
    "person1.lname = \"Johnson\"\n",
    "\n",
    "person2 = Student(\"Gary\", \"Jackson\", 7, \"80 50 90 75 85\")\n",
    "\n",
    "person3 = Grades(\"Gary\", \"Jackson\", 7)\n",
    "\n",
    "# test code\n",
    "print(person1.desc())\n",
    "print(person2.desc())\n",
    "print(person2.calculate())\n",
    "print(person3.desc())\n",
    "\n"
   ]
  },
  {
   "cell_type": "markdown",
   "metadata": {},
   "source": [
    "[How To Submit Your Exercises](https://www.youtube.com/watch?v=GCd4auHwZZY)"
   ]
  },
  {
   "cell_type": "markdown",
   "metadata": {},
   "source": [
    "- - - \n",
    "<!--NAVIGATION-->\n",
    "Module 8. | [Inheritance & Methods](./01_oop_inheritance.ipynb) | [Sequences, Iterables, Generators Revisited](02_revisited.ipynb) | **[Exercises](./03_inheritance_methods_exercises.ipynb)**\n",
    "<br>\n",
    "[Top](#)"
   ]
  },
  {
   "cell_type": "markdown",
   "metadata": {},
   "source": [
    "- - -\n",
    "\n",
    "Copyright © 2020 Qualex Consulting Services Incorporated."
   ]
  }
 ],
 "metadata": {
  "kernelspec": {
   "display_name": "Python 3 (ipykernel)",
   "language": "python",
   "name": "python3"
  },
  "language_info": {
   "codemirror_mode": {
    "name": "ipython",
    "version": 3
   },
   "file_extension": ".py",
   "mimetype": "text/x-python",
   "name": "python",
   "nbconvert_exporter": "python",
   "pygments_lexer": "ipython3",
   "version": "3.9.12"
  }
 },
 "nbformat": 4,
 "nbformat_minor": 4
}
