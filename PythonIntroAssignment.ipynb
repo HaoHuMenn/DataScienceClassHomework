{
 "cells": [
  {
   "cell_type": "markdown",
   "id": "109d7150",
   "metadata": {},
   "source": [
    "# Module 1: Practice Exercises"
   ]
  },
  {
   "cell_type": "markdown",
   "id": "411f7a40",
   "metadata": {},
   "source": [
    "1) Accept the user's first and last name and print them in reverse order with a space between them"
   ]
  },
  {
   "cell_type": "code",
   "execution_count": 1,
   "id": "91d1ead3",
   "metadata": {},
   "outputs": [
    {
     "name": "stdout",
     "output_type": "stream",
     "text": [
      "Please input your first name: S\n",
      "Please input your last name: S\n",
      "Hello S S\n"
     ]
    }
   ],
   "source": [
    "#accept user's input as string\n",
    "firstName = input(\"Please input your first name: \")\n",
    "lastName = input(\"Please input your last name: \")\n",
    "\n",
    "print(\"Hello %s %s\" %(lastName, firstName))"
   ]
  },
  {
   "cell_type": "markdown",
   "id": "8adbc2e4",
   "metadata": {},
   "source": [
    "2) Accept an integer (n) and compute the value of n+nn+nnn"
   ]
  },
  {
   "cell_type": "code",
   "execution_count": 4,
   "id": "1d7d7246",
   "metadata": {},
   "outputs": [
    {
     "name": "stdout",
     "output_type": "stream",
     "text": [
      "Please input a integer: 5\n",
      "615\n"
     ]
    }
   ],
   "source": [
    "#take user input as a string\n",
    "userInput = input(\"Please input a integer: \")\n",
    "\n",
    "#check if user input is a integer in the string\n",
    "while not userInput.isnumeric():\n",
    "    userInput = input(\"Input is not an integer, please re-try:\")\n",
    "\n",
    "numOfDigit = len(userInput) # lenth of the string = total digit of the integer\n",
    "userInput = int(userInput) # convert to integer\n",
    "\n",
    "#calculate nnn, nn, n, spit them as power of 10\n",
    "nnn = userInput * 10**(numOfDigit*2)+ userInput * 10**(numOfDigit) + userInput\n",
    "nn = userInput * 10**(numOfDigit) + userInput\n",
    "n = userInput\n",
    "#print(nnn,nn,n)\n",
    "\n",
    "userOutput = nnn + nn + n #compute sum\n",
    "print(userOutput)"
   ]
  },
  {
   "cell_type": "markdown",
   "id": "f1d4ff44",
   "metadata": {},
   "source": [
    "3) Ask the user \"What country are you from?\" then print the following statement: \"I have heard that [input] is a beautiful country!\""
   ]
  },
  {
   "cell_type": "code",
   "execution_count": 5,
   "id": "9b90f3bd",
   "metadata": {},
   "outputs": [
    {
     "name": "stdout",
     "output_type": "stream",
     "text": [
      "What country are you from? US\n",
      "I have heard that US is a beautiful country!\n"
     ]
    }
   ],
   "source": [
    "userInput = input(\"What country are you from? \")\n",
    "userOutput = \"I have heard that \" + userInput + \" is a beautiful country!\"\n",
    "print(userOutput)"
   ]
  },
  {
   "cell_type": "markdown",
   "id": "3898c643",
   "metadata": {},
   "source": [
    "4) Is a String Immutable in Python?\n",
    "\n",
    "Yes, it is immutable"
   ]
  },
  {
   "cell_type": "markdown",
   "id": "7b5e3921",
   "metadata": {},
   "source": [
    "5) What is the output of the following Python code\n",
    "\n",
    "   x = 10\n",
    "   y = 50\n",
    "   if (x ** 2 > 100 and y < 100):\n",
    "       print(x, y)\n",
    "       \n",
    " Nothing, no output"
   ]
  },
  {
   "cell_type": "markdown",
   "id": "e6ea6a69",
   "metadata": {},
   "source": [
    "6) What is the output of the following addition (+) operator, and why does this code chunk execute this way?\n",
    "\n",
    "a = [10, 20]\n",
    "b = a\n",
    "b += [30, 40]\n",
    "print(a)\n",
    "print(b)\n",
    "\n",
    "\n",
    "[10, 20, 30, 40]\n",
    "[10, 20, 30, 40]\n",
    "Because the code assigned a and b as two pointer to the same list, changing the list will change a and b. "
   ]
  },
  {
   "cell_type": "markdown",
   "id": "53dcc93e",
   "metadata": {},
   "source": [
    "7) What is the output of the following code and what arithmetic operators is being used here? print(2%6)\n",
    "\n",
    "2, modulus"
   ]
  },
  {
   "cell_type": "markdown",
   "id": "141a4989",
   "metadata": {},
   "source": [
    "8) What is the output of the following code and what arithmetic operators are used here? print(2 * 3 ** 3 * 4)\n",
    "\n",
    "216, multiplication, exponentiation "
   ]
  },
  {
   "cell_type": "markdown",
   "id": "227b3eaf",
   "metadata": {},
   "source": [
    "9) What is a text editor?\n",
    "\n",
    "Text editor is an app that allows you to enter, delete and edit characters, which is also where you write your code in.  "
   ]
  },
  {
   "cell_type": "markdown",
   "id": "1efcf01a",
   "metadata": {},
   "source": [
    "10) What is python?\n",
    "\n",
    "Python is a computer programming luanguae that can be used to create different programs for various tasks like software developing, website developing or data analysis. "
   ]
  },
  {
   "cell_type": "markdown",
   "id": "28e8c436",
   "metadata": {},
   "source": [
    "11) What is jupyter notebook, what type of python environment is it, and what alternatives are there to jupyter notebook?\n",
    "\n",
    "Jupyter Notebook is an Intergrated Development Enviroment (IDE) with text editor allows you to write and run your code line by line. It is working in a web browser and can also create notebook documents along with code. \n",
    "Python 3\n",
    "PyCharm, Eclipse, Visual Studio Code"
   ]
  },
  {
   "cell_type": "markdown",
   "id": "e48e6f31",
   "metadata": {},
   "source": [
    "12) What is the output of x AND explain why that is the output for: \n",
    "x = 36 / 4 * (3 +  2) * 4 + 2\n",
    "\n",
    "182.0, because the result of a true division 36/4 is a float, the result of the rest math calculation between integer and float is float. "
   ]
  },
  {
   "cell_type": "markdown",
   "id": "a1c9e3cc",
   "metadata": {},
   "source": [
    "13) Write a for loop that multiplies the number 4 by all the integers from 0 to 10 and prints the following for each: \"4 multiplied by [i] is [x]\" "
   ]
  },
  {
   "cell_type": "code",
   "execution_count": 6,
   "id": "2f22cc21",
   "metadata": {},
   "outputs": [
    {
     "name": "stdout",
     "output_type": "stream",
     "text": [
      "4 multiplied by [0] is [0]\n",
      "4 multiplied by [1] is [4]\n",
      "4 multiplied by [2] is [8]\n",
      "4 multiplied by [3] is [12]\n",
      "4 multiplied by [4] is [16]\n",
      "4 multiplied by [5] is [20]\n",
      "4 multiplied by [6] is [24]\n",
      "4 multiplied by [7] is [28]\n",
      "4 multiplied by [8] is [32]\n",
      "4 multiplied by [9] is [36]\n",
      "4 multiplied by [10] is [40]\n"
     ]
    }
   ],
   "source": [
    "num = 0\n",
    "outPut = \"\"\n",
    "for i in range(0,11):\n",
    "    num = 4 * i\n",
    "    outPut = \"4 multiplied by [\" +str(i) + \"] is [\" + str(num) + \"]\"\n",
    "    print(outPut)"
   ]
  },
  {
   "cell_type": "markdown",
   "id": "bcc2d519",
   "metadata": {},
   "source": [
    "14) Print a multiplication table that matches the following. Use two nested for loops to achieve this."
   ]
  },
  {
   "attachments": {
    "Screen%20Shot%202022-07-30%20at%2020.54.34%20copy.png": {
     "image/png": "[encoded data removed]"
    }
   },
   "cell_type": "markdown",
   "id": "029431fe",
   "metadata": {},
   "source": [
    "![Screen%20Shot%202022-07-30%20at%2020.54.34%20copy.png](attachment:Screen%20Shot%202022-07-30%20at%2020.54.34%20copy.png)"
   ]
  },
  {
   "cell_type": "code",
   "execution_count": 7,
   "id": "5aba36ee",
   "metadata": {},
   "outputs": [
    {
     "name": "stdout",
     "output_type": "stream",
     "text": [
      "1 2 3 4 5 6 7 8 9 10\n",
      "2 4 6 8 10 12 14 16 18 20\n",
      "3 6 9 12 15 18 21 24 27 30\n",
      "4 8 12 16 20 24 28 32 36 40\n",
      "5 10 15 20 25 30 35 40 45 50\n",
      "6 12 18 24 30 36 42 48 54 60\n",
      "7 14 21 28 35 42 49 56 63 70\n",
      "8 16 24 32 40 48 56 64 72 80\n",
      "9 18 27 36 45 54 63 72 81 90\n",
      "10 20 30 40 50 60 70 80 90 100\n"
     ]
    }
   ],
   "source": [
    "multiTable = [] #empty list for the table(mainlist)\n",
    "line = [] # empty list for each line(sublist)\n",
    "for i in range(1,11):\n",
    "    for j in range (1,11):\n",
    "        line.append(i * j) # fill each line\n",
    "    multiTable.append(line) # add the whole line as sublist to mainlist\n",
    "    line = [] #clear the sublist for the next fill\n",
    "    \n",
    "#print(multiTable)\n",
    "import numpy as np #import numpy to covert list to array,so that it can be treat as mathmatical mattrix\n",
    "multiTable = np.array(multiTable)\n",
    "#print(type(multiTable))\n",
    "for line in multiTable:\n",
    "    print(\" \".join(map(str, line))) #covert each row as string\n",
    "                                    #covert each number in row as string and print with one space as seperator  "
   ]
  },
  {
   "cell_type": "markdown",
   "id": "d8fba542",
   "metadata": {},
   "source": [
    "<!--NAVIGATION-->\n",
    "Module 1. [Basic Python Syntax](./01_mod_python_syntax.ipynb) | [Variables and Objects](./02_python_variables_objects.ipynb) | [Operators](./03_python_operators.ipynb) | **[Practice](./04_mod_practice.ipynb)**\n",
    "<br>\n",
    "[top](#)"
   ]
  },
  {
   "cell_type": "markdown",
   "id": "1b65762c",
   "metadata": {},
   "source": [
    "- - -\n",
    "\n",
    "Copyright © 2020 Qualex Consulting Services Incorporated."
   ]
  },
  {
   "cell_type": "code",
   "execution_count": null,
   "id": "49c87959",
   "metadata": {},
   "outputs": [],
   "source": []
  }
 ],
 "metadata": {
  "kernelspec": {
   "display_name": "Python 3 (ipykernel)",
   "language": "python",
   "name": "python3"
  },
  "language_info": {
   "codemirror_mode": {
    "name": "ipython",
    "version": 3
   },
   "file_extension": ".py",
   "mimetype": "text/x-python",
   "name": "python",
   "nbconvert_exporter": "python",
   "pygments_lexer": "ipython3",
   "version": "3.9.12"
  }
 },
 "nbformat": 4,
 "nbformat_minor": 5
}
