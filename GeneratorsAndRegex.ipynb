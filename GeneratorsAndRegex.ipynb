{
 "cells": [
  {
   "cell_type": "markdown",
   "metadata": {},
   "source": [
    "Data Science Fundamentals: Python |\n",
    "[Table of Contents](../index.ipynb)\n",
    "- - - \n",
    "<!--NAVIGATION-->\n",
    "Module 6. | [Generators](./01_generators.ipynb) | [Regular Expressions](./02_regex.ipynb) | [String Manipulation & Regular Expressions](03_str_manipulate.ipynb) | [Closures & Generators](./04_closures_generators.ipynb) | **[Exercises](./05_gen_regex_exercises.ipynb)**"
   ]
  },
  {
   "cell_type": "markdown",
   "metadata": {},
   "source": [
    "\n",
    "# Module 6: Practice Exercises"
   ]
  },
  {
   "cell_type": "markdown",
   "metadata": {},
   "source": [
    "## Exercise 1"
   ]
  },
  {
   "cell_type": "markdown",
   "metadata": {},
   "source": [
    "[See Hacker Rank Problem](https://www.hackerrank.com/challenges/re-sub-regex-substitution/problem)"
   ]
  },
  {
   "cell_type": "markdown",
   "metadata": {},
   "source": [
    "The re.sub() tool (sub stands for substitution) evaluates a pattern and, for each valid match, it calls a method (or lambda).\n",
    "The method is called for all matches and can be used to modify strings in different ways.\n",
    "The re.sub() method returns the modified string as an output.\n",
    "\n",
    "Learn more about [re.sub()](https://docs.python.org/3/library/re.html)."
   ]
  },
  {
   "cell_type": "markdown",
   "metadata": {},
   "source": [
    "**Task**"
   ]
  },
  {
   "cell_type": "markdown",
   "metadata": {},
   "source": [
    "You are given a text of **N** lines. The text contains && and || symbols.\n",
    "Your task is to modify those symbols to the following:"
   ]
  },
  {
   "cell_type": "raw",
   "metadata": {},
   "source": [
    "&& → and\n",
    "|| → or"
   ]
  },
  {
   "cell_type": "markdown",
   "metadata": {},
   "source": [
    "Both && and || should have a space \" \" on both sides."
   ]
  },
  {
   "cell_type": "markdown",
   "metadata": {},
   "source": [
    "**Input Format**"
   ]
  },
  {
   "cell_type": "markdown",
   "metadata": {},
   "source": [
    "The first line contains the integer, **N**.\n",
    "The next **N** lines each contain a line of the text."
   ]
  },
  {
   "cell_type": "markdown",
   "metadata": {},
   "source": [
    "**Constraints**"
   ]
  },
  {
   "cell_type": "raw",
   "metadata": {},
   "source": [
    "0 < N < 100"
   ]
  },
  {
   "cell_type": "markdown",
   "metadata": {},
   "source": [
    "**Output Format**"
   ]
  },
  {
   "cell_type": "markdown",
   "metadata": {},
   "source": [
    "Output the modified text."
   ]
  },
  {
   "cell_type": "markdown",
   "metadata": {},
   "source": [
    "**Sample Input**"
   ]
  },
  {
   "cell_type": "markdown",
   "metadata": {},
   "source": [
    "<br>\n",
    "11 <br>\n",
    "a = 1;<br>\n",
    "b = input();<br>\n",
    "\n",
    "if a + b > 0 && a - b < 0:<br>\n",
    "    start()<br>\n",
    "elif a*b > 10 || a/b < 1:<br>\n",
    "    stop()<br>\n",
    "print set(list(a)) | set(list(b)) <br>\n",
    "\n",
    "\\\\#Note do not change &&& or ||| or & or |<br>\n",
    "\\\\#Only change those '&&' which have space on both sides.<br>\n",
    "\\\\#Only change those '|| which have space on both sides."
   ]
  },
  {
   "cell_type": "markdown",
   "metadata": {},
   "source": [
    "**Sample Output**"
   ]
  },
  {
   "cell_type": "markdown",
   "metadata": {},
   "source": [
    "a = 1;\n",
    "b = input();\n",
    "\n",
    "if a + b > 0 and a - b < 0:\n",
    "    start()\n",
    "elif a*b > 10 or a/b < 1:\n",
    "    stop()\n",
    "print set(list(a)) | set(list(b)) \n",
    "#Note do not change &&& or ||| or & or |\n",
    "#Only change those '&&' which have space on both sides.\n",
    "#Only change those '|| which have space on both sides."
   ]
  },
  {
   "cell_type": "code",
   "execution_count": 5,
   "metadata": {},
   "outputs": [
    {
     "name": "stdout",
     "output_type": "stream",
     "text": [
      "a = 1;\n",
      "b = input();\n",
      "\n",
      "if a + b > 0 and a - b < 0:\n",
      "    start()\n",
      "elif a*b > 10 or a/b < 1:\n",
      "    stop()\n",
      "print set(list(a)) | set(list(b)) \n",
      "\n",
      "#Note do not change &&& or ||| or & or |\n",
      "#Only change those '&&' which have space on both sides.\n",
      "#Only change those '|| which have space on both sides.\n",
      "\n"
     ]
    }
   ],
   "source": [
    "### Answer\n",
    "\n",
    "import re\n",
    "def and_or_modifier(Text):\n",
    "    \"This function changes '&&' '||' to 'and' 'or' in a string\"\n",
    "    pattern = re.compile(r\"\\s+(&&|\\|\\|)\\s+\") #patter,with 1 group, so group(1) will be either && or ||\n",
    "    matches = pattern.finditer(Text) # create a iterator based on pattern\n",
    "    outString = \"\"\n",
    "    Text = re.sub(r\"\\s*\\d+\\s+\", r\"\", Text, count = 1)\n",
    "    #return matches\n",
    "    for match in matches: #for every match in matches\n",
    "        if match.group(1) == \"&&\": #if group(1) of this match is &&\n",
    "            \n",
    "            outString = re.sub(r\"\\s+(&&)\\s+\",r\" and \", Text) # a new string:substitute && with and, \n",
    "                                                             # in string Text\n",
    "            \n",
    "        elif match.group(1) == \"||\": # if group(1) is ||\n",
    "            if len(outString) == 0: # if outString is still empty\n",
    "                outString = re.sub(r\"\\s+(\\|\\|)\\s+\", r\" or \", Text) # substitute based on Text\n",
    "                \n",
    "            else:\n",
    "                outString = re.sub(r\"\\s+(\\|\\|)\\s+\", r\" or \", outString)\n",
    "                # substitute based on last version of outString, \n",
    "                # note: if based on Text here, it will over right \n",
    "                # previous outString,the output will be last element \n",
    "                # of for-loop    \n",
    "    return outString\n",
    "\n",
    "text_to_search = '''\n",
    "11\n",
    "a = 1;\n",
    "b = input();\n",
    "\n",
    "if a + b > 0 && a - b < 0:\n",
    "    start()\n",
    "elif a*b > 10 || a/b < 1:\n",
    "    stop()\n",
    "print set(list(a)) | set(list(b)) \n",
    "\n",
    "#Note do not change &&& or ||| or & or |\n",
    "#Only change those '&&' which have space on both sides.\n",
    "#Only change those '|| which have space on both sides.\n",
    "'''\n",
    "print(and_or_modifier(text_to_search))"
   ]
  },
  {
   "cell_type": "markdown",
   "metadata": {},
   "source": [
    "[Submit Solution to Hacker Rank](https://www.hackerrank.com/challenges/re-sub-regex-substitution/submissions)"
   ]
  },
  {
   "cell_type": "markdown",
   "metadata": {},
   "source": [
    "## Exercise 2"
   ]
  },
  {
   "cell_type": "markdown",
   "metadata": {},
   "source": [
    "[See Hacker Rank Problem](https://www.hackerrank.com/challenges/validating-named-email-addresses/problem)"
   ]
  },
  {
   "cell_type": "markdown",
   "metadata": {},
   "source": [
    "A valid email address meets the following criteria:\n",
    "\n",
    "It's composed of a username, domain name, and extension assembled in this format: username@domain.extension\n",
    "- The username starts with an English alphabetical character, and any subsequent characters consist of one or more of the following: alphanumeric characters, -,., and _.\n",
    "- The domain and extension contain only English alphabetical characters.\n",
    "- The extension is 1, 2, or 3 characters in length.\n",
    "\n",
    "Given **n** pairs of names and email addresses as input, print each name and email address pair having a valid email address on a new line.\n",
    "\n",
    "Hint: Try using [Email.utils()](https://docs.python.org/3/library/email.utils.html) to complete this challenge. For example, this code:"
   ]
  },
  {
   "cell_type": "raw",
   "metadata": {},
   "source": [
    "import email.utils\n",
    "print email.utils.parseaddr('DOSHI <DOSHI@hackerrank.com>')\n",
    "print email.utils.formataddr(('DOSHI', 'DOSHI@hackerrank.com'))"
   ]
  },
  {
   "cell_type": "markdown",
   "metadata": {},
   "source": [
    "Produces this output"
   ]
  },
  {
   "cell_type": "raw",
   "metadata": {},
   "source": [
    "('DOSHI', 'DOSHI@hackerrank.com')\n",
    "DOSHI <DOSHI@hackerrank.com>"
   ]
  },
  {
   "cell_type": "markdown",
   "metadata": {},
   "source": [
    "**Input Format**\n",
    "\n",
    "The first line contains a single integer, , denoting the number of email address.\n",
    "Each line  of the  subsequent lines contains a name and an email address as two space-separated values following this format:"
   ]
  },
  {
   "cell_type": "raw",
   "metadata": {},
   "source": [
    "name <user@email.com>"
   ]
  },
  {
   "cell_type": "markdown",
   "metadata": {},
   "source": [
    "**Constraints**"
   ]
  },
  {
   "cell_type": "raw",
   "metadata": {},
   "source": [
    "0 < n < 100"
   ]
  },
  {
   "cell_type": "markdown",
   "metadata": {},
   "source": [
    "**Output Format**"
   ]
  },
  {
   "cell_type": "markdown",
   "metadata": {},
   "source": [
    "Print the space-separated name and email address pairs containing valid email addresses only. Each pair must be printed on a new line in the following format:"
   ]
  },
  {
   "cell_type": "raw",
   "metadata": {},
   "source": [
    "name <user@email.com>"
   ]
  },
  {
   "cell_type": "markdown",
   "metadata": {},
   "source": [
    "**Sample Input**"
   ]
  },
  {
   "cell_type": "raw",
   "metadata": {},
   "source": [
    "2  \n",
    "DEXTER <dexter@hotmail.com>\n",
    "VIRUS <virus!@variable.:p>"
   ]
  },
  {
   "cell_type": "markdown",
   "metadata": {},
   "source": [
    "**Sample Output**"
   ]
  },
  {
   "cell_type": "raw",
   "metadata": {},
   "source": [
    "DEXTER <dexter@hotmail.com>"
   ]
  },
  {
   "cell_type": "markdown",
   "metadata": {},
   "source": [
    "**Explanation**"
   ]
  },
  {
   "cell_type": "markdown",
   "metadata": {},
   "source": [
    "dexter@hotmail.com is a valid email address, so we print the name and email address pair received as input on a new line.\n",
    "virus!@variable.:p is not a valid email address because the username contains an exclamation point (!) and the extension contains a colon (:). As this email is not valid, we print nothing."
   ]
  },
  {
   "cell_type": "code",
   "execution_count": 1,
   "metadata": {},
   "outputs": [
    {
     "name": "stdout",
     "output_type": "stream",
     "text": [
      "DEXTER <dexter@hotmail.com>\n"
     ]
    }
   ],
   "source": [
    "### Answer:\n",
    "import re\n",
    "import email.utils\n",
    "def email_valid_check(text_to_check):\n",
    "    \"This function checks if an email address is valid, and returns valid ones in a list. Each valid email will have username, address stored in tuple\"\n",
    "    pattern = re.compile(r\"[A-Za-z]+\\s+<[\\w.-]+@[a-zA-Z]+\\.[a-zA-Z]{1,3}>\")\n",
    "    # search rules:\n",
    "    # The username starts with an English alphabetical character, \n",
    "    # and any subsequent characters consist of one or more of the \n",
    "    # following: alphanumeric characters, -,., and _.\n",
    "    # The domain and extension contain only English alphabetical characters.\n",
    "    # The extension is 1, 2, or 3 characters in length.\n",
    "    email_lst = []\n",
    "    matches = pattern.finditer(text_to_check) #interator of all the matched strings\n",
    "    for match in matches:\n",
    "        email_lst.append(email.utils.parseaddr(match.group(0)))\n",
    "    \n",
    "    return email_lst\n",
    "\n",
    "user_emails = '''\n",
    "2  \n",
    "DEXTER <dexter@hotmail.com>\n",
    "VIRUS <virus!@variable.:p>\n",
    "'''\n",
    "lst = email_valid_check(user_emails)\n",
    "for item in lst:\n",
    "    print(email.utils.formataddr(item))\n"
   ]
  },
  {
   "cell_type": "markdown",
   "metadata": {},
   "source": [
    "[Submit Solution to Hacker Rank](https://www.hackerrank.com/challenges/validating-named-email-addresses/submissions)"
   ]
  },
  {
   "cell_type": "markdown",
   "metadata": {},
   "source": [
    "- - -\n",
    "<!--NAVIGATION-->\n",
    "Module 6. | [Generators](./01_generators.ipynb) | [Regular Expressions](./02_regex.ipynb) | [String Manipulation & Regular Expressions](03_str_manipulate.ipynb) | [Closures & Generators](./04_closures_generators.ipynb) | **[Exercises](./05_gen_regex_exercises.ipynb)**\n",
    "<br>\n",
    "[Top](#)"
   ]
  },
  {
   "cell_type": "markdown",
   "metadata": {},
   "source": [
    "- - -\n",
    "\n",
    "Copyright © 2020 Qualex Consulting Services Incorporated."
   ]
  },
  {
   "cell_type": "code",
   "execution_count": null,
   "metadata": {},
   "outputs": [],
   "source": []
  }
 ],
 "metadata": {
  "kernelspec": {
   "display_name": "Python 3 (ipykernel)",
   "language": "python",
   "name": "python3"
  },
  "language_info": {
   "codemirror_mode": {
    "name": "ipython",
    "version": 3
   },
   "file_extension": ".py",
   "mimetype": "text/x-python",
   "name": "python",
   "nbconvert_exporter": "python",
   "pygments_lexer": "ipython3",
   "version": "3.9.12"
  }
 },
 "nbformat": 4,
 "nbformat_minor": 4
}
