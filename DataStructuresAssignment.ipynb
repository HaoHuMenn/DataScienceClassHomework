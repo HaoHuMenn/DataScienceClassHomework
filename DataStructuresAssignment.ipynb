{
 "cells": [
  {
   "cell_type": "markdown",
   "metadata": {},
   "source": [
    "Data Science Fundamentals: Python |\n",
    "[Table of Contents](../index.ipynb)\n",
    "- - - \n",
    "<!--NAVIGATION-->\n",
    "Module 2. Python Data | [Simple Types](./01_simple_types.ipynb) | [Data Structures](./02_data_structures.ipynb) | **[Exercises](./03_data_exercises.ipynb)**"
   ]
  },
  {
   "cell_type": "markdown",
   "metadata": {},
   "source": [
    "# Module 2: Practice Exercises"
   ]
  },
  {
   "cell_type": "markdown",
   "metadata": {},
   "source": [
    "### Excercise 1 \n",
    "Get a space-separated list of integers from the user, create a tuple of those integers. Then compute and print the result of hash(tuple).  [Hint](https://docs.python.org/3/library/functions.html#hash). **Hash()**"
   ]
  },
  {
   "cell_type": "markdown",
   "metadata": {},
   "source": [
    "A **[hash](https://en.wikipedia.org/wiki/Hash_function)** is an fixed sized integer that identifies a particular value. Each value needs to have its own hash, so for the same value you will get the same hash even if it's not the same object."
   ]
  },
  {
   "cell_type": "code",
   "execution_count": 26,
   "metadata": {},
   "outputs": [
    {
     "name": "stdout",
     "output_type": "stream",
     "text": [
      "Please enter a list of space separated integers: 1 1 2 3 5 8\n",
      "(1, 1, 2, 3, 5, 8)\n",
      "-3346110607554192639\n"
     ]
    }
   ],
   "source": [
    "# define a function taking string and a boolean variable as parameter to \n",
    "#1) check if the input are integers and separated by space\n",
    "#2) convert the list of string to a list of integer\n",
    "#3) Switch the boolean variable if all conditions meet\n",
    "def checkConvert(Str, flag):\n",
    "    \"This function is to check if input are integers and separated by space. \\\n",
    "    It returns a tuple of the list of integer and boolean variable. \"\n",
    "    \n",
    "    userLst = Str.split() #convert input string to a list of string, using while space as delimeter.\n",
    "                                # If the separater is not white space, it will be in this list too.\n",
    "    returnLst = []\n",
    "    for item in userLst:\n",
    "        if item.isnumeric(): #check if each str item in the list is an integer. It can also check if the separater is all space,\n",
    "                             #because if the separater is not space, it will be in the list and .isnumeric() is going to be false\n",
    "            \n",
    "            returnLst.append(int(item))\n",
    "        else:\n",
    "            print(\"invalid input, make sure to enter integers separaed by space\")\n",
    "            break # break out of for loop\n",
    "            \n",
    "    \n",
    "    if len(returnLst) == len(userLst): # return list if the user input are all valid\n",
    "        flag = True\n",
    "        return(returnLst, flag)\n",
    "    else:\n",
    "        return(returnLst, flag)\n",
    "    \n",
    "#Get user input:\n",
    "flag = False #while loop signaler\n",
    "outPut = () \n",
    "while flag == False: # keep asking user for input until they input the correct format\n",
    "    userInput = input(\"Please enter a list of space separated integers: \")          \n",
    "    outPut = checkConvert(userInput,flag) #call checkConvert() function\n",
    "    userLst = outPut[0] #unzip the output of checkCovert()\n",
    "    flag = outPut[1]\n",
    "    \n",
    "\n",
    "#Process user input:\n",
    "userTuple = tuple(userLst) # convert list to tuple\n",
    "print(userTuple)\n",
    "print(hash(userTuple))\n",
    "\n",
    "\n",
    "    \n",
    "\n",
    "#print(hash((1,1,2,3,5,8)))\n",
    "\n"
   ]
  },
  {
   "cell_type": "markdown",
   "metadata": {},
   "source": [
    "### Excercise 2 \n",
    "Take the following two lists. Create a third list by picking a odd-index elements from the first list and even-index elements from the second."
   ]
  },
  {
   "cell_type": "code",
   "execution_count": 1,
   "metadata": {},
   "outputs": [],
   "source": [
    "list1 = [3, 6, 9, 12, 15, 18, 21]\n",
    "list2 = [4, 8, 12, 16, 20, 24, 28]"
   ]
  },
  {
   "cell_type": "code",
   "execution_count": 59,
   "metadata": {},
   "outputs": [
    {
     "name": "stdout",
     "output_type": "stream",
     "text": [
      "[6, 12, 18, 4, 12, 20, 28]\n"
     ]
    }
   ],
   "source": [
    "list1 = [3, 6, 9, 12, 15, 18, 21]\n",
    "list2 = [4, 8, 12, 16, 20, 24, 28]\n",
    "length1 = len(list1)\n",
    "length2 = len(list2)\n",
    "lst31 = []\n",
    "lst32 = []\n",
    "\n",
    "lst31 = [list1[idx] for idx in range(0, length1) if idx % 2 != 0]\n",
    "lst32 = [list2[idx] for idx in range(0, length2) if idx % 2 == 0]\n",
    "\n",
    "lst3 = lst31 + lst32\n",
    "\n",
    "print(lst3)"
   ]
  },
  {
   "cell_type": "markdown",
   "metadata": {},
   "source": [
    "### Excercise 3\n",
    "Take the following list. Slice it into three equal chunks and reverse each list."
   ]
  },
  {
   "cell_type": "code",
   "execution_count": 138,
   "metadata": {},
   "outputs": [],
   "source": [
    "sampleList = [11, 45, 8, 23, 14, 12, 78, 45, 89]\n"
   ]
  },
  {
   "cell_type": "code",
   "execution_count": 27,
   "metadata": {},
   "outputs": [
    {
     "name": "stdout",
     "output_type": "stream",
     "text": [
      "[[45, 11, 8], [23, 14, 12], [89, 78, 45]]\n"
     ]
    }
   ],
   "source": [
    "#define a function: \n",
    "#taking a list and a integer num(how many chunks to split) as input\n",
    "#return a list of num pieces of equal-ish chunks of lists. \n",
    "def chunkLists(lst, num):\n",
    "    \"This function takes a list and a integer num to split the list into num pieces of equal-ish chunks of lists. \"\n",
    "    aveChunk = len(lst) // num     # average chunk size\n",
    "    out = [] # return list\n",
    "    first = 0 #first index of sublist(chunk) \n",
    "    last = 0 #last index of sublist(chunk)\n",
    "    remain = len(lst) % num     # extra pieces to even out in chunks\n",
    "    if remain != 0:     # if there are extra pieces\n",
    "        while first <= len(lst) - aveChunk:    #loop through each chunk\n",
    "            while remain > 0:       # spread extra pieces evenly in chunks\n",
    "                last = first + aveChunk + 1    #last index is first index plus average chunk length, and put one extra piece into this chunk\n",
    "                out.append(lst[first:last])    #put this sublist to return list\n",
    "                first += aveChunk     # move first index to next chunk\n",
    "                remain -= 1  # one less extra piece to spread\n",
    "            last = first + aveChunk # last index when there is no extra pieces left(out of remain while loop)\n",
    "            out.append(lst[first:last]) # add sublist to return list\n",
    "            first += aveChunk # move to next chunk\n",
    "        return out # return output list\n",
    "            \n",
    "    else: # if there is no extra pieces\n",
    "        while first <= len(lst) -aveChunk: \n",
    "            last = first + aveChunk\n",
    "            out.append(lst[first:last])\n",
    "            first += aveChunk\n",
    "        \n",
    "        return out\n",
    "    \n",
    "sampleList = [11, 45, 8, 23, 14, 12, 78, 45, 89]\n",
    "\n",
    "# pass the parameter sampleList and 3 equal chunks in function\n",
    "chunk = chunkLists(sampleList, 3)\n",
    "\n",
    "#reverse each list\n",
    "for lst in chunk:\n",
    "    lst.sort(reverse = True)\n",
    "    \n",
    "print(chunk)       \n",
    "    \n",
    "    "
   ]
  },
  {
   "cell_type": "markdown",
   "metadata": {},
   "source": [
    "### Excercise 4\n",
    "Iterate through a given list and check if a given element already exists in a dictionary as a key’s value. If not, delete it from the list."
   ]
  },
  {
   "cell_type": "code",
   "execution_count": 3,
   "metadata": {},
   "outputs": [],
   "source": [
    "rollNumber = [47, 64, 69, 37, 76, 83, 95, 97]\n",
    "sampleDict ={'Zach':47, 'Emma':69, 'Kelly':76, 'Jason':97}"
   ]
  },
  {
   "cell_type": "code",
   "execution_count": 105,
   "metadata": {},
   "outputs": [
    {
     "name": "stdout",
     "output_type": "stream",
     "text": [
      "[47, 69, 76, 97]\n"
     ]
    }
   ],
   "source": [
    "rollNumber = [47, 64, 69, 37, 76, 83, 95, 97]\n",
    "sampleDict ={'Zach':47, 'Emma':69, 'Kelly':76, 'Jason':97}\n",
    "i = 0\n",
    "while i < len(rollNumber):\n",
    "    if rollNumber[i] in sampleDict.values(): #check if each list element with index i is in the dictionary value\n",
    "        i += 1\n",
    "    else:\n",
    "        rollNumber.pop(i) # delete from the list\n",
    "        \n",
    "    \n",
    "print(rollNumber)\n",
    "\n"
   ]
  },
  {
   "cell_type": "markdown",
   "metadata": {},
   "source": [
    "### Excercise 5\n",
    "Choose all the valid string creation in python "
   ]
  },
  {
   "cell_type": "markdown",
   "metadata": {},
   "source": [
    "str1 = “str1” valid <br>\n",
    "str1 = ‘str1’  valid <br>\n",
    "str1 = ”’str1”’ <br>\n",
    "str1 = str(“str1”) valid "
   ]
  },
  {
   "cell_type": "markdown",
   "metadata": {},
   "source": [
    "### Exercise 6\n",
    "In mathematics, the quadratic equation ax2+bx+c=0 can be solved with the formula x=−b±b2−4ac√2a.\n",
    "\n",
    "Write a function solve_quadratic, that returns both solutions of a generic quadratic as a pair (2-tuple) when the coefficients are given as parameters. It should work like this:\n",
    "\n",
    "print(solve_quadratic(1,-3,2))\n",
    "(2.0,1.0)\n",
    "print(solve_quadratic(1,2,1))\n",
    "(-1.0,-1.0)\n",
    "You may want to use the math.sqrt function from the math module in your solution. Test that your function works in the main function!"
   ]
  },
  {
   "cell_type": "code",
   "execution_count": 29,
   "metadata": {},
   "outputs": [
    {
     "name": "stdout",
     "output_type": "stream",
     "text": [
      "(2.0, 1.0)\n",
      "(-1.0, -1.0)\n"
     ]
    }
   ],
   "source": [
    "# function takes 3 coefficients of the quadratic equation, returns 2 roots\n",
    "def solve_quadratic(a, b, c):\n",
    "    \"This function takes the 3 coefficients of the quadratic equation, abc, returns 2 roots\"\n",
    "    import math # import the math module\n",
    "    a = float(a) #convert input numbers to float\n",
    "    b = float(b)\n",
    "    c = float(c)\n",
    "    root1 = (-b + math.sqrt(b**2 - 4*a*c))/(2 * a) # roots of the quadratic equation ax^2+bx+c=0 \n",
    "    root2 = (-b - math.sqrt(b**2 - 4*a*c))/(2 * a)\n",
    "    return (root1, root2)\n",
    "\n",
    "# test function\n",
    "print(solve_quadratic(1,-3,2))\n",
    "print(solve_quadratic(1,2,1))\n",
    "    "
   ]
  },
  {
   "cell_type": "markdown",
   "metadata": {},
   "source": [
    "## Extra Points\n",
    "- - -"
   ]
  },
  {
   "cell_type": "markdown",
   "metadata": {},
   "source": [
    "1) ***Optional Exercise (Extra Points)***.  Write a Python program to convert a tuple to a string."
   ]
  },
  {
   "cell_type": "code",
   "execution_count": 30,
   "metadata": {},
   "outputs": [
    {
     "name": "stdout",
     "output_type": "stream",
     "text": [
      "100 200 300 \n"
     ]
    }
   ],
   "source": [
    "#function: taking tuple, converting to string using space as separater \n",
    "#returning this string\n",
    "def tupleToString(tup):\n",
    "    \"This function converts a tuple to a string\"\n",
    "    string = \"\"\n",
    "    for item in tup:\n",
    "        string = string + str(item) + \" \"\n",
    "    return string\n",
    "\n",
    "#test function with a sample tuple\n",
    "samTup = (100, 200, 300)\n",
    "samStr = tupleToString(samTup)\n",
    "print(samStr)\n",
    "                     "
   ]
  },
  {
   "cell_type": "markdown",
   "metadata": {},
   "source": [
    "2) ***Optional Exercise (Extra Points)***.  Write a Python program to check whether an element exists within a tuple."
   ]
  },
  {
   "cell_type": "code",
   "execution_count": 31,
   "metadata": {},
   "outputs": [
    {
     "name": "stdout",
     "output_type": "stream",
     "text": [
      "300 existes within this tuple\n"
     ]
    },
    {
     "data": {
      "text/plain": [
       "True"
      ]
     },
     "execution_count": 31,
     "metadata": {},
     "output_type": "execute_result"
    }
   ],
   "source": [
    "#function define: take a tuple and the checking element\n",
    "#print message and return booleans based on if the element in the tuple \n",
    "def existCheck(tup, item):\n",
    "    \"This function checks whether an element extists within a tuple\"\n",
    "    if item in tup: \n",
    "        print(str(item) + \" existes within this tuple\")\n",
    "        return True\n",
    "    else:\n",
    "        print(str(item) + \" is not in this tuple\")\n",
    "        return False\n",
    "\n",
    "#test function with a sample tuple and element\n",
    "samTup = (100, 200, 300)\n",
    "existCheck(samTup, 300)"
   ]
  },
  {
   "cell_type": "markdown",
   "metadata": {},
   "source": [
    "3) ***Optional Exercise (Extra Points)***.  Write a Python program to print a tuple with string formatting."
   ]
  },
  {
   "cell_type": "raw",
   "metadata": {},
   "source": [
    "Sample tuple : (100, 200, 300)\n",
    "Output : This is a tuple (100, 200, 300)"
   ]
  },
  {
   "cell_type": "code",
   "execution_count": 123,
   "metadata": {},
   "outputs": [
    {
     "name": "stdout",
     "output_type": "stream",
     "text": [
      "This is a tuple: (100, 200, 300)\n"
     ]
    }
   ],
   "source": [
    "samTup = (100, 200, 300)\n",
    "print(\"This is a tuple: %s\" % str(samTup)) \n",
    "\n",
    "    \n",
    "    "
   ]
  },
  {
   "cell_type": "markdown",
   "metadata": {},
   "source": [
    "- - - \n",
    "<!--NAVIGATION-->\n",
    "Module 2. Python Data | [Simple Types](./01_simple_types.ipynb) | [Data Structures](./02_data_structures.ipynb) | **[Exercises](./03_data_exercises.ipynb)**\n",
    "<br>\n",
    "[Top](#)"
   ]
  },
  {
   "cell_type": "markdown",
   "metadata": {},
   "source": [
    "- - -\n",
    "\n",
    "Copyright © 2020 Qualex Consulting Services Incorporated."
   ]
  }
 ],
 "metadata": {
  "kernelspec": {
   "display_name": "Python 3 (ipykernel)",
   "language": "python",
   "name": "python3"
  },
  "language_info": {
   "codemirror_mode": {
    "name": "ipython",
    "version": 3
   },
   "file_extension": ".py",
   "mimetype": "text/x-python",
   "name": "python",
   "nbconvert_exporter": "python",
   "pygments_lexer": "ipython3",
   "version": "3.9.12"
  }
 },
 "nbformat": 4,
 "nbformat_minor": 4
}
